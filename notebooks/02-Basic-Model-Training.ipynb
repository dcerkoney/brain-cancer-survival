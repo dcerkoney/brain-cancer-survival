{
 "cells": [
  {
   "cell_type": "code",
   "execution_count": 1,
   "metadata": {},
   "outputs": [],
   "source": [
    "%load_ext autoreload\n",
    "%autoreload 2"
   ]
  },
  {
   "cell_type": "code",
   "execution_count": 18,
   "metadata": {},
   "outputs": [],
   "source": [
    "import os\n",
    "import numpy as np\n",
    "import matplotlib.pyplot as plt\n",
    "import pandas as pd\n",
    "import seaborn as sns\n",
    "\n",
    "from src.features.cleaning import clean_data, split_X_and_y_data"
   ]
  },
  {
   "cell_type": "code",
   "execution_count": 3,
   "metadata": {},
   "outputs": [
    {
     "name": "stderr",
     "output_type": "stream",
     "text": [
      "/var/folders/x7/y98cqsdn699czxl0ksdv4x100000gn/T/ipykernel_79054/2315449442.py:6: DtypeWarning: Columns (102) have mixed types. Specify dtype option on import or set low_memory=False.\n",
      "  data_raw = pd.read_csv(filename_data_brain)\n"
     ]
    }
   ],
   "source": [
    "dir_data = './data'\n",
    "filename_data_brain = os.path.join(\n",
    "    dir_data, \n",
    "    'survival_brain_2000_to_2020_seer_2022_db.csv'\n",
    ")\n",
    "data_raw = pd.read_csv(filename_data_brain)"
   ]
  },
  {
   "cell_type": "code",
   "execution_count": 4,
   "metadata": {},
   "outputs": [],
   "source": [
    "data = clean_data(data_raw)"
   ]
  },
  {
   "cell_type": "markdown",
   "metadata": {},
   "source": [
    "For an initial look, let's just define a list of some of the  columns that look interesting."
   ]
  },
  {
   "cell_type": "markdown",
   "metadata": {},
   "source": [
    "## Train-Test Split"
   ]
  },
  {
   "cell_type": "code",
   "execution_count": 9,
   "metadata": {},
   "outputs": [],
   "source": [
    "from sklearn.model_selection import train_test_split"
   ]
  },
  {
   "cell_type": "code",
   "execution_count": 19,
   "metadata": {},
   "outputs": [],
   "source": [
    "data_train, data_test = train_test_split(\n",
    "    data, \n",
    "    test_size=0.2, \n",
    "    random_state=2984, \n",
    "    shuffle=True, \n",
    "    stratify=data['Vital status recode (study cutoff used)']\n",
    ")\n",
    "\n",
    "X_train, y_train = split_X_and_y_data(data_train)\n",
    "X_test , y_test  = split_X_and_y_data(data_test)"
   ]
  },
  {
   "cell_type": "markdown",
   "metadata": {},
   "source": [
    "## Model Training"
   ]
  },
  {
   "cell_type": "code",
   "execution_count": null,
   "metadata": {},
   "outputs": [],
   "source": []
  }
 ],
 "metadata": {
  "kernelspec": {
   "display_name": "erdos_sp_2024",
   "language": "python",
   "name": "python3"
  },
  "language_info": {
   "codemirror_mode": {
    "name": "ipython",
    "version": 3
   },
   "file_extension": ".py",
   "mimetype": "text/x-python",
   "name": "python",
   "nbconvert_exporter": "python",
   "pygments_lexer": "ipython3",
   "version": "3.11.7"
  }
 },
 "nbformat": 4,
 "nbformat_minor": 2
}
