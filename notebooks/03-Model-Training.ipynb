{
 "cells": [
  {
   "cell_type": "code",
   "execution_count": 1,
   "metadata": {},
   "outputs": [],
   "source": [
    "%load_ext autoreload\n",
    "%autoreload 2"
   ]
  },
  {
   "cell_type": "code",
   "execution_count": 2,
   "metadata": {},
   "outputs": [
    {
     "name": "stderr",
     "output_type": "stream",
     "text": [
      "/tmp/ipykernel_44882/1396368495.py:4: DeprecationWarning: \n",
      "Pyarrow will become a required dependency of pandas in the next major release of pandas (pandas 3.0),\n",
      "(to allow more performant data types, such as the Arrow string type, and better interoperability with other libraries)\n",
      "but was not found to be installed on your system.\n",
      "If this would cause problems for you,\n",
      "please provide us feedback at https://github.com/pandas-dev/pandas/issues/54466\n",
      "        \n",
      "  import pandas as pd\n"
     ]
    }
   ],
   "source": [
    "import os\n",
    "import numpy as np\n",
    "import matplotlib.pyplot as plt\n",
    "import pandas as pd\n",
    "import seaborn as sns\n",
    "\n",
    "from src.features.cleaning import clean_data, split_X_and_y_data\n",
    "from src.utils import get_project_root"
   ]
  },
  {
   "cell_type": "markdown",
   "metadata": {},
   "source": [
    "## Pre-processing (TODO: recode tumor size and check for other known descriptors like the MGMT gene and prescence of genetic mutation)"
   ]
  },
  {
   "cell_type": "code",
   "execution_count": 3,
   "metadata": {},
   "outputs": [
    {
     "name": "stderr",
     "output_type": "stream",
     "text": [
      "/tmp/ipykernel_44882/838592508.py:8: DtypeWarning: Columns (102) have mixed types. Specify dtype option on import or set low_memory=False.\n",
      "  data_raw = pd.read_csv(filename_data_brain)\n"
     ]
    }
   ],
   "source": [
    "dir_root = get_project_root()\n",
    "dir_data = 'data'\n",
    "filename_data_brain = os.path.join(\n",
    "    dir_root,\n",
    "    dir_data,\n",
    "    'survival_brain_2000_to_2020_seer_2022_db.csv'\n",
    ")\n",
    "data_raw = pd.read_csv(filename_data_brain)"
   ]
  },
  {
   "cell_type": "code",
   "execution_count": 4,
   "metadata": {},
   "outputs": [],
   "source": [
    "data = clean_data(data_raw)"
   ]
  },
  {
   "cell_type": "code",
   "execution_count": 5,
   "metadata": {},
   "outputs": [
    {
     "data": {
      "text/plain": [
       "Age standard for survival\n",
       "15    18546\n",
       "55    17306\n",
       "65    15350\n",
       "75    12612\n",
       "45    12513\n",
       "Name: count, dtype: int64"
      ]
     },
     "execution_count": 5,
     "metadata": {},
     "output_type": "execute_result"
    }
   ],
   "source": [
    "# Age groupings according to age standard for survival type II. One typically stratifies on these\n",
    "# groups or uses the corresponding population weights to perform an age-adjusted analysis.\n",
    "#\n",
    "# The groupings were designed so as to minimize the difference between raw and age-standardized\n",
    "# 5-year survival ratios in the EUROCARE-2 dataset.\n",
    "#\n",
    "# Hence, it may be best to use these groupings for our age categorical.\n",
    "data['Age standard for survival'].value_counts()"
   ]
  },
  {
   "cell_type": "code",
   "execution_count": 6,
   "metadata": {},
   "outputs": [
    {
     "data": {
      "text/plain": [
       "AYA site recode 2020 Revision\n",
       "3.1.2.2 Glioblastoma - invasive                                45457\n",
       "3.1.4.3 Other astrocytoma/astroglial - invasive                16247\n",
       "3.1.1.2 Oligodendroglioma - invasive                            7509\n",
       "3.10.2 Other and unspecified CNS - invasive                     2213\n",
       "3.1.4.1 Pilocytic astrocytoma                                   1780\n",
       "3.1.3.2 Ependymoma - invasive                                   1206\n",
       "3.2 Medulloblastoma and other invasive embryonal CNS tumors     1108\n",
       "7.3 Germ cell and trophoblastic - CNS                            242\n",
       "5.2.2 Other                                                      189\n",
       "3.4.2 Neuronal and mixed neuronal-glial - invasive                86\n",
       "4.13 Chordoma                                                     73\n",
       "3.6.2 Choroid plexus - invasive                                   37\n",
       "3.3.2 Neuroblastoma/ganglioneuroblastoma - invasive               31\n",
       "4.15 Other soft tissue sarcomas                                   24\n",
       "4.2 Chondrosarcoma                                                19\n",
       "6.2.2 Other                                                       18\n",
       "8.3 Other malignant                                               16\n",
       "4.10 Spindle cell sarcoma                                         11\n",
       "6.2.1.1 CNS                                                       11\n",
       "4.4.3 Other fibromatous neoplasms                                  7\n",
       "4.8 Rhabdomyosarcoma                                               7\n",
       "4.7 Leiomyosarcoma                                                 5\n",
       "10.1.2 Olfactory and other non-CNS neuroblastomas                  5\n",
       "3.9.2 Pineal - invasive                                            4\n",
       "4.14 Giant cell sarcoma                                            3\n",
       "4.12 Desmoplastic small round cell tumor                           2\n",
       "4.6 Synovial sarcoma                                               2\n",
       "3.7.2 Craniopharyngioma - invasive                                 2\n",
       "4.16 Other bone tumors                                             1\n",
       "4.4.1 Myxofibrosarcoma                                             1\n",
       "4.4.2 Malignant fibrous histiocytoma                               1\n",
       "4.5 Liposarcoma                                                    1\n",
       "4.1 Osteosarcoma                                                   1\n",
       "Name: count, dtype: int64"
      ]
     },
     "execution_count": 6,
     "metadata": {},
     "output_type": "execute_result"
    }
   ],
   "source": [
    "# Site recoding for tumors of adolescents and young adults (AYA), ages 15-39\n",
    "data['AYA site recode 2020 Revision'].value_counts()"
   ]
  },
  {
   "cell_type": "code",
   "execution_count": 7,
   "metadata": {},
   "outputs": [
    {
     "data": {
      "text/plain": [
       "SEER Brain and CNS Recode\n",
       "1.1.2 Glioblastoma                                      45457\n",
       "1.1.1 Diffuse astrocytoma and anaplastic astrocytoma    11688\n",
       "1.1.4 Oligodendroglioma                                  5442\n",
       "1.1.9 Glioma, unspecified                                4040\n",
       "1.6 Other Malignant Brain/ONS                            2831\n",
       "1.1.6 Other astrocytic tumors                            2128\n",
       "1.1.5 Oligoastrocytoma                                   1950\n",
       "1.1.8 Ependymal tumors                                   1203\n",
       "1.2 Embryonal tumors                                     1134\n",
       "1.1.10 Other                                              210\n",
       "1.1.3 Diffuse midline glioma, H3 K27M-mutant               85\n",
       "1.5 Neuronal and mixed neuronal-glial tumors               81\n",
       "1.1.7 Astroblastoma                                        41\n",
       "1.4 Choroid plexus tumors                                  37\n",
       "Name: count, dtype: int64"
      ]
     },
     "execution_count": 7,
     "metadata": {},
     "output_type": "execute_result"
    }
   ],
   "source": [
    "# Site recoding grouped by major histological categories for brain-specific tumors\n",
    "data['SEER Brain and CNS Recode'].value_counts()"
   ]
  },
  {
   "cell_type": "code",
   "execution_count": 8,
   "metadata": {},
   "outputs": [
    {
     "data": {
      "text/plain": [
       "CS site-specific factor 1 (2004-2017 varying by schema)\n",
       "040    24422\n",
       "999    12264\n",
       "030     6169\n",
       "020     5754\n",
       "998     2436\n",
       "010     1258\n",
       "Name: count, dtype: int64"
      ]
     },
     "execution_count": 8,
     "metadata": {},
     "output_type": "execute_result"
    }
   ],
   "source": [
    "# Almost identical conceptually to grade recode\n",
    "data['CS site-specific factor 1 (2004-2017 varying by schema)'].value_counts()"
   ]
  },
  {
   "cell_type": "code",
   "execution_count": 9,
   "metadata": {},
   "outputs": [
    {
     "data": {
      "text/plain": [
       "Grade Recode (thru 2017)\n",
       "Unknown                                   50140\n",
       "Undifferentiated; anaplastic; Grade IV    19676\n",
       "Moderately differentiated; Grade II        3388\n",
       "Poorly differentiated; Grade III           1999\n",
       "Well differentiated; Grade I               1124\n",
       "Name: count, dtype: int64"
      ]
     },
     "execution_count": 9,
     "metadata": {},
     "output_type": "execute_result"
    }
   ],
   "source": [
    "data['Grade Recode (thru 2017)'].value_counts()"
   ]
  },
  {
   "cell_type": "code",
   "execution_count": 10,
   "metadata": {},
   "outputs": [
    {
     "data": {
      "text/plain": [
       "Brain Molecular Markers (2018+)\n",
       "Glioblastoma, IDH-wildtype (9440/3)                                                 6042\n",
       "Not documented; No microscopic confirmation; Not assessed or unknown if assessed    2587\n",
       "NA: Histology not 9400/3, 9401/3, 9440/3, 9450/3, 9451/3, 9471/3, 9478/3            1294\n",
       "Oligodendroglioma, IDH-mutant and 1 p/19q co-deleted (9450/3)                        437\n",
       "Diffuse astrocytoma, IDH-mutant (9400/3)                                             387\n",
       "Anaplastic astrocytoma, IDH-mutant (9401/3)                                          376\n",
       "Anaplastic astrocytoma, IDH-wildtype (9401/3)                                        362\n",
       "Diffuse astrocytoma, IDH-wildtype (9400/3)                                           242\n",
       "Anaplastic oligodendroglioma, IDH-mutant and 1 p/19q co-deleted (9451/3)             214\n",
       "Medulloblastoma, SHH-activated and TP53-wildtype (9471/3)                             42\n",
       "Test ordered, results not in chart                                                    39\n",
       "Name: count, dtype: int64"
      ]
     },
     "execution_count": 10,
     "metadata": {},
     "output_type": "execute_result"
    }
   ],
   "source": [
    "data['Brain Molecular Markers (2018+)'].value_counts()"
   ]
  },
  {
   "cell_type": "code",
   "execution_count": 11,
   "metadata": {},
   "outputs": [
    {
     "data": {
      "text/plain": [
       "Chromosome 19q: Loss of Heterozygosity (LOH) Recode (2010+)\n",
       "Not documented; Cannot be determined; Not assessed or unknown if assessed    34613\n",
       "Chromosome 19q deletion/LOH not identified/not present                        4517\n",
       "Chromosome 19q deletion/LOH present                                           2154\n",
       "Not applicable: Information not collected for this case                       1874\n",
       "Test ordered, results not in chart                                             126\n",
       "Name: count, dtype: int64"
      ]
     },
     "execution_count": 11,
     "metadata": {},
     "output_type": "execute_result"
    }
   ],
   "source": [
    "data['Chromosome 19q: Loss of Heterozygosity (LOH) Recode (2010+)'].value_counts()"
   ]
  },
  {
   "cell_type": "code",
   "execution_count": 12,
   "metadata": {},
   "outputs": [
    {
     "data": {
      "text/plain": [
       "Chromosome 1p: Loss of Heterozygosity (LOH) Recode (2010+)\n",
       "Not documented; Cannot be determined; Not assessed or unknown if assessed    34656\n",
       "Chromosome 1p deletion/LOH not identified/not present                         4458\n",
       "Chromosome 1p deletion/LOH identified/present                                 2169\n",
       "Not applicable: Information not collected for this case                       1875\n",
       "Test ordered, results not in chart                                             126\n",
       "Name: count, dtype: int64"
      ]
     },
     "execution_count": 12,
     "metadata": {},
     "output_type": "execute_result"
    }
   ],
   "source": [
    "data['Chromosome 1p: Loss of Heterozygosity (LOH) Recode (2010+)'].value_counts()"
   ]
  },
  {
   "cell_type": "markdown",
   "metadata": {},
   "source": [
    "## Train-Test Split"
   ]
  },
  {
   "cell_type": "code",
   "execution_count": 13,
   "metadata": {},
   "outputs": [],
   "source": [
    "from sklearn.model_selection import train_test_split\n",
    "from sksurv.preprocessing import OneHotEncoder\n",
    "from sklearn.compose import ColumnTransformer, make_column_transformer, make_column_selector\n",
    "from sklearn.impute import SimpleImputer\n",
    "from sklearn.pipeline import make_pipeline\n",
    "from sklearn.preprocessing import StandardScaler\n",
    "from sklearn.model_selection import RandomizedSearchCV, GridSearchCV, KFold\n",
    "from sklearn.feature_selection import SelectKBest\n",
    "from scipy import stats"
   ]
  },
  {
   "cell_type": "code",
   "execution_count": 14,
   "metadata": {},
   "outputs": [],
   "source": [
    "data_train, data_test = train_test_split(\n",
    "    data,\n",
    "    test_size=0.2,\n",
    "    random_state=2984,\n",
    "    shuffle=True,\n",
    "    stratify=data['Vital status recode (study cutoff used)']\n",
    ")\n",
    "\n",
    "X_train, y_train = split_X_and_y_data(data_train)\n",
    "X_test, y_test = split_X_and_y_data(data_test)"
   ]
  },
  {
   "cell_type": "code",
   "execution_count": 15,
   "metadata": {},
   "outputs": [
    {
     "name": "stdout",
     "output_type": "stream",
     "text": [
      "<class 'pandas.core.frame.DataFrame'>\n",
      "Index: 61061 entries, 36640 to 46191\n",
      "Data columns (total 128 columns):\n",
      " #    Column                                                                 Non-Null Count  Dtype   \n",
      "---   ------                                                                 --------------  -----   \n",
      " 0    Sex                                                                    61061 non-null  category\n",
      " 1    Year of diagnosis                                                      61061 non-null  int64   \n",
      " 2    PRCDA 2020                                                             61061 non-null  object  \n",
      " 3    Race recode (W, B, AI, API)                                            61061 non-null  category\n",
      " 4    Origin recode NHIA (Hispanic, Non-Hisp)                                61061 non-null  category\n",
      " 5    Race and origin recode (NHW, NHB, NHAIAN, NHAPI, Hispanic)             61061 non-null  category\n",
      " 6    TNM 7/CS v0204+ Schema (thru 2017)                                     51397 non-null  object  \n",
      " 7    AYA site recode 2020 Revision                                          61055 non-null  category\n",
      " 8    ICCC site recode 3rd edition/IARC 2017                                 61061 non-null  object  \n",
      " 9    SEER Brain and CNS Recode                                              61061 non-null  category\n",
      " 10   Primary Site - labeled                                                 61061 non-null  object  \n",
      " 11   Primary Site                                                           61061 non-null  int64   \n",
      " 12   Histologic Type ICD-O-3                                                61061 non-null  int64   \n",
      " 13   Behavior recode for analysis                                           61061 non-null  object  \n",
      " 14   Grade Recode (thru 2017)                                               61061 non-null  category\n",
      " 15   Grade Clinical (2018+)                                                 9664 non-null   object  \n",
      " 16   Grade Pathological (2018+)                                             9664 non-null   object  \n",
      " 17   Laterality                                                             61061 non-null  object  \n",
      " 18   Diagnostic Confirmation                                                61061 non-null  category\n",
      " 19   ICD-O-3 Hist/behav                                                     61061 non-null  object  \n",
      " 20   ICD-O-3 Hist/behav, malignant                                          61061 non-null  object  \n",
      " 21   Histology recode - broad groupings                                     61061 non-null  category\n",
      " 22   ICCC site recode extended 3rd edition/IARC 2017                        61061 non-null  object  \n",
      " 23   Schema ID (2018+)                                                      9664 non-null   object  \n",
      " 24   AJCC ID (2018+)                                                        9664 non-null   object  \n",
      " 25   EOD Schema ID Recode (2010+)                                           34763 non-null  object  \n",
      " 26   Site recode - rare tumors                                              61061 non-null  object  \n",
      " 27   Combined Summary Stage (2004+)                                         51501 non-null  object  \n",
      " 28   Summary stage 2000 (1998-2017)                                         51397 non-null  object  \n",
      " 29   SEER Combined Summary Stage 2000 (2004-2017)                           41850 non-null  category\n",
      " 30   SEER historic stage A (1973-2015)                                      45008 non-null  object  \n",
      " 31   Derived EOD 2018 T (2018+)                                             9664 non-null   object  \n",
      " 32   Derived EOD 2018 N (2018+)                                             9664 non-null   object  \n",
      " 33   Derived EOD 2018 M (2018+)                                             9664 non-null   object  \n",
      " 34   Derived EOD 2018 Stage Group (2018+)                                   9664 non-null   object  \n",
      " 35   Derived SEER Cmb Stg Grp (2016-2017)                                   6389 non-null   object  \n",
      " 36   Derived SEER Combined T (2016-2017)                                    6389 non-null   object  \n",
      " 37   Derived SEER Combined N (2016-2017)                                    6389 non-null   object  \n",
      " 38   Derived SEER Combined M (2016-2017)                                    6389 non-null   object  \n",
      " 39   AJCC stage 3rd edition (1988-2003)                                     9547 non-null   object  \n",
      " 40   SEER modified AJCC stage 3rd (1988-2003)                               9547 non-null   object  \n",
      " 41   T value - based on AJCC 3rd (1988-2003)                                9547 non-null   object  \n",
      " 42   N value - based on AJCC 3rd (1988-2003)                                9547 non-null   object  \n",
      " 43   M value - based on AJCC 3rd (1988-2003)                                9547 non-null   object  \n",
      " 44   TNM Edition Number (2016-2017)                                         6389 non-null   object  \n",
      " 45   RX Summ--Surg Prim Site (1998+)                                        61061 non-null  int64   \n",
      " 46   RX Summ--Scope Reg LN Sur (2003+)                                      53985 non-null  object  \n",
      " 47   RX Summ--Surg Oth Reg/Dis (2003+)                                      53985 non-null  object  \n",
      " 48   RX Summ--Surg/Rad Seq                                                  61061 non-null  object  \n",
      " 49   Reason no cancer-directed surgery                                      61061 non-null  object  \n",
      " 50   Radiation recode                                                       61061 non-null  object  \n",
      " 51   Chemotherapy recode (yes, no/unk)                                      61061 non-null  object  \n",
      " 52   Scope of reg lymph nd surg (1998-2002)                                 7076 non-null   object  \n",
      " 53   RX Summ--Reg LN Examined (1998-2002)                                   7076 non-null   object  \n",
      " 54   Surgery of oth reg/dis sites (1998-2002)                               7076 non-null   object  \n",
      " 55   RX Summ--Systemic/Sur Seq (2007+)                                      43520 non-null  object  \n",
      " 56   Months from diagnosis to treatment                                     51648 non-null  Int64   \n",
      " 57   Brain Molecular Markers (2018+)                                        9632 non-null   object  \n",
      " 58   Chromosome 19q: Loss of Heterozygosity (LOH) Recode (2010+)            34623 non-null  object  \n",
      " 59   Chromosome 1p: Loss of Heterozygosity (LOH) Recode (2010+)             34623 non-null  object  \n",
      " 60   EOD Primary Tumor (2018+)                                              9664 non-null   object  \n",
      " 61   EOD Regional Nodes (2018+)                                             9664 non-null   object  \n",
      " 62   EOD Mets (2018+)                                                       9664 non-null   object  \n",
      " 63   Tumor Size Summary (2016+)                                             16053 non-null  Int64   \n",
      " 64   SEER Combined Mets at DX-bone (2010+)                                  34579 non-null  object  \n",
      " 65   SEER Combined Mets at DX-brain (2010+)                                 34565 non-null  object  \n",
      " 66   SEER Combined Mets at DX-liver (2010+)                                 34578 non-null  object  \n",
      " 67   SEER Combined Mets at DX-lung (2010+)                                  34578 non-null  object  \n",
      " 68   Mets at DX-Distant LN (2016+)                                          16053 non-null  object  \n",
      " 69   Mets at DX-Other (2016+)                                               16053 non-null  object  \n",
      " 70   CS tumor size (2004-2015)                                              35461 non-null  Int64   \n",
      " 71   CS extension (2004-2015)                                               35461 non-null  object  \n",
      " 72   CS lymph nodes (2004-2015)                                             35461 non-null  object  \n",
      " 73   CS mets at dx (2004-2015)                                              35461 non-null  object  \n",
      " 74   CS Tumor Size/Ext Eval (2004-2015)                                     34712 non-null  object  \n",
      " 75   CS Reg Node Eval (2004-2015)                                           34712 non-null  object  \n",
      " 76   CS Mets Eval (2004-2015)                                               34712 non-null  object  \n",
      " 77   CS site-specific factor 1 (2004-2017 varying by schema)                41850 non-null  object  \n",
      " 78   CS site-specific factor 25 (2004-2017 varying by schema)               41850 non-null  object  \n",
      " 79   CS version input current (2004-2015)                                   35461 non-null  object  \n",
      " 80   CS version input original (2004-2015)                                  35461 non-null  object  \n",
      " 81   CS version derived (2004-2015)                                         35461 non-null  object  \n",
      " 82   EOD 10 - extent (1988-2003)                                            9547 non-null   object  \n",
      " 83   EOD 10 - nodes (1988-2003)                                             9547 non-null   object  \n",
      " 84   EOD 10 - size (1988-2003)                                              9547 non-null   Int64   \n",
      " 85   Tumor marker 1 (1990-2003)                                             4386 non-null   object  \n",
      " 86   Tumor marker 2 (1990-2003)                                             4386 non-null   object  \n",
      " 87   Tumor marker 3 (1998-2003)                                             4386 non-null   object  \n",
      " 88   Coding system-EOD (1973-2003)                                          9547 non-null   object  \n",
      " 89   COD to site recode                                                     61061 non-null  object  \n",
      " 90   SEER cause-specific death classification                               61061 non-null  category\n",
      " 91   SEER other cause of death classification                               61061 non-null  category\n",
      " 92   Survival months flag                                                   61061 non-null  category\n",
      " 93   COD to site rec KM                                                     61061 non-null  object  \n",
      " 94   COD to site recode ICD-O-3 2023 Revision                               61061 non-null  object  \n",
      " 95   COD to site recode ICD-O-3 2023 Revision Expanded (1999+)              61061 non-null  object  \n",
      " 96   Sequence number                                                        61061 non-null  object  \n",
      " 97   Record number recode                                                   61061 non-null  int64   \n",
      " 98   Total number of in situ/malignant tumors for patient                   61061 non-null  int64   \n",
      " 99   Total number of benign/borderline tumors for patient                   61061 non-null  object  \n",
      " 100  Race recode (White, Black, Other)                                      61061 non-null  object  \n",
      " 101  Age recode with <1 year olds and 90+                                   61061 non-null  object  \n",
      " 102  Age recode with single ages and 85+                                    61061 non-null  object  \n",
      " 103  Age recode with single ages and 90+                                    61061 non-null  object  \n",
      " 104  Race/ethnicity                                                         61061 non-null  object  \n",
      " 105  IHS Link                                                               61015 non-null  object  \n",
      " 106  Year of follow-up recode                                               61061 non-null  int64   \n",
      " 107  Year of death recode                                                   46206 non-null  Int64   \n",
      " 108  Patient ID                                                             61061 non-null  int64   \n",
      " 109  Type of Reporting Source                                               61061 non-null  category\n",
      " 110  Marital status at diagnosis                                            61061 non-null  category\n",
      " 111  CoC Accredited Flag (2018+)                                            9664 non-null   object  \n",
      " 112  Rural-Urban Continuum Code                                             61061 non-null  category\n",
      " 113  Age recode (<60,60-69,70+)                                             61061 non-null  object  \n",
      " 114  Age Standard for Survival (15-44,45-54,55-64,65-74,75+)                61061 non-null  object  \n",
      " 115  Race and origin recode (NHW, NHB, NHAIAN, NHAPI, Hispanic) - no total  61061 non-null  object  \n",
      " 116  Sex (no total)                                                         61061 non-null  object  \n",
      " 117  Race recode (White, Black, Other, Unknown) - no total                  61061 non-null  object  \n",
      " 118  Year of diagnosis (2000-2019 by 5)                                     61061 non-null  int64   \n",
      " 119  End Calc Vital Status (Adjusted)                                       61061 non-null  category\n",
      " 120  Number of Intervals (Calculated)                                       61061 non-null  int64   \n",
      " 121  Age Standard for Survival (15-44,45-54,55-64,65-74,75+).1              61061 non-null  object  \n",
      " 122  Alive at last contact                                                  61061 non-null  bool    \n",
      " 123  Age standard for survival                                              61061 non-null  int64   \n",
      " 124  Median household income inflation adj to 2021 (thousands USD)          61061 non-null  Int64   \n",
      " 125  Combined Tumor Size                                                    61061 non-null  Int64   \n",
      " 126  No tumor found                                                         61061 non-null  bool    \n",
      " 127  Unknown tumor size                                                     61061 non-null  bool    \n",
      "dtypes: Int64(7), bool(3), category(17), int64(11), object(90)\n",
      "memory usage: 52.4+ MB\n"
     ]
    }
   ],
   "source": [
    "X_train.info(verbose=True, show_counts=True)"
   ]
  },
  {
   "cell_type": "code",
   "execution_count": 16,
   "metadata": {},
   "outputs": [
    {
     "data": {
      "text/plain": [
       "Sex\n",
       "Male      34659\n",
       "Female    26402\n",
       "Name: count, dtype: int64"
      ]
     },
     "execution_count": 16,
     "metadata": {},
     "output_type": "execute_result"
    }
   ],
   "source": [
    "X_train['Sex'].value_counts()"
   ]
  },
  {
   "cell_type": "markdown",
   "metadata": {},
   "source": [
    "## Model Training"
   ]
  },
  {
   "cell_type": "code",
   "execution_count": 17,
   "metadata": {},
   "outputs": [],
   "source": [
    "from sksurv.nonparametric import kaplan_meier_estimator\n",
    "from sksurv.linear_model import CoxPHSurvivalAnalysis, CoxnetSurvivalAnalysis\n",
    "from sksurv.metrics import concordance_index_censored\n",
    "\n",
    "from src.transformers.transformers import DataFrameTransformer"
   ]
  },
  {
   "cell_type": "code",
   "execution_count": 18,
   "metadata": {},
   "outputs": [],
   "source": [
    "impute_ohe_scale = make_pipeline(\n",
    "    SimpleImputer(strategy='constant', add_indicator=True).set_output(\n",
    "        transform=\"pandas\"),\n",
    "    DataFrameTransformer(),\n",
    "    OneHotEncoder(),\n",
    "    StandardScaler()\n",
    ")\n",
    "impute_mean_scale = make_pipeline(\n",
    "    SimpleImputer(strategy='mean', add_indicator=True),\n",
    "    StandardScaler()\n",
    ")\n",
    "\n",
    "column_transformer = make_column_transformer(\n",
    "    (StandardScaler(), [\n",
    "        # 'Age recode with <1 year olds',\n",
    "        'Year of diagnosis',\n",
    "        'Median household income inflation adj to 2021 (thousands USD)',\n",
    "        'Total number of in situ/malignant tumors for patient',  # should we restrict the cohort to N=1?\n",
    "        'Combined Tumor Size',\n",
    "        'No tumor found',\n",
    "        'Unknown tumor size',\n",
    "    ]),\n",
    "    (impute_ohe_scale, [\n",
    "        'Age standard for survival',  # handle standardized age groupings categorically\n",
    "        'Sex',\n",
    "        'Race recode (W, B, AI, API)',\n",
    "        'Race and origin recode (NHW, NHB, NHAIAN, NHAPI, Hispanic)',\n",
    "        'Marital status at diagnosis',\n",
    "        # 'AYA site recode 2020 Revision',\n",
    "        'SEER Brain and CNS Recode',\n",
    "        'Primary Site - labeled',\n",
    "        'Histologic Type ICD-O-3',\n",
    "        'Grade Recode (thru 2017)',\n",
    "        'Diagnostic Confirmation',\n",
    "        'Histology recode - broad groupings',\n",
    "        # 'SEER Combined Summary Stage 2000 (2004-2017)',\n",
    "        'Chromosome 19q: Loss of Heterozygosity (LOH) Recode (2010+)',\n",
    "        'Chromosome 1p: Loss of Heterozygosity (LOH) Recode (2010+)',\n",
    "        'Brain Molecular Markers (2018+)',\n",
    "    ]),\n",
    "    (impute_mean_scale, [\n",
    "        'Months from diagnosis to treatment',\n",
    "    ]),\n",
    "    # (, ['']),\n",
    "    remainder='drop',\n",
    "    n_jobs=-1,\n",
    ")"
   ]
  },
  {
   "cell_type": "code",
   "execution_count": 19,
   "metadata": {},
   "outputs": [
    {
     "data": {
      "text/plain": [
       "array(['standardscaler__Year of diagnosis',\n",
       "       'standardscaler__Median household income inflation adj to 2021 (thousands USD)',\n",
       "       'standardscaler__Total number of in situ/malignant tumors for patient',\n",
       "       'standardscaler__Combined Tumor Size',\n",
       "       'standardscaler__No tumor found',\n",
       "       'standardscaler__Unknown tumor size',\n",
       "       'pipeline-1__Age standard for survival=45',\n",
       "       'pipeline-1__Age standard for survival=55',\n",
       "       'pipeline-1__Age standard for survival=65',\n",
       "       'pipeline-1__Age standard for survival=75', 'pipeline-1__Sex=Male',\n",
       "       'pipeline-1__Race recode (W, B, AI, API)=Asian or Pacific Islander',\n",
       "       'pipeline-1__Race recode (W, B, AI, API)=Black',\n",
       "       'pipeline-1__Race recode (W, B, AI, API)=Unknown',\n",
       "       'pipeline-1__Race recode (W, B, AI, API)=White',\n",
       "       'pipeline-1__Race and origin recode (NHW, NHB, NHAIAN, NHAPI, Hispanic)=Non-Hispanic American Indian/Alaska Native',\n",
       "       'pipeline-1__Race and origin recode (NHW, NHB, NHAIAN, NHAPI, Hispanic)=Non-Hispanic Asian or Pacific Islander',\n",
       "       'pipeline-1__Race and origin recode (NHW, NHB, NHAIAN, NHAPI, Hispanic)=Non-Hispanic Black',\n",
       "       'pipeline-1__Race and origin recode (NHW, NHB, NHAIAN, NHAPI, Hispanic)=Non-Hispanic Unknown Race',\n",
       "       'pipeline-1__Race and origin recode (NHW, NHB, NHAIAN, NHAPI, Hispanic)=Non-Hispanic White',\n",
       "       'pipeline-1__Marital status at diagnosis=Married (including common law)',\n",
       "       'pipeline-1__Marital status at diagnosis=Separated',\n",
       "       'pipeline-1__Marital status at diagnosis=Single (never married)',\n",
       "       'pipeline-1__Marital status at diagnosis=Unknown',\n",
       "       'pipeline-1__Marital status at diagnosis=Unmarried or Domestic Partner',\n",
       "       'pipeline-1__Marital status at diagnosis=Widowed',\n",
       "       'pipeline-1__SEER Brain and CNS Recode=1.1.10 Other',\n",
       "       'pipeline-1__SEER Brain and CNS Recode=1.1.2 Glioblastoma',\n",
       "       'pipeline-1__SEER Brain and CNS Recode=1.1.3 Diffuse midline glioma, H3 K27M-mutant',\n",
       "       'pipeline-1__SEER Brain and CNS Recode=1.1.4 Oligodendroglioma',\n",
       "       'pipeline-1__SEER Brain and CNS Recode=1.1.5 Oligoastrocytoma',\n",
       "       'pipeline-1__SEER Brain and CNS Recode=1.1.6 Other astrocytic tumors',\n",
       "       'pipeline-1__SEER Brain and CNS Recode=1.1.7 Astroblastoma',\n",
       "       'pipeline-1__SEER Brain and CNS Recode=1.1.8 Ependymal tumors',\n",
       "       'pipeline-1__SEER Brain and CNS Recode=1.1.9 Glioma, unspecified',\n",
       "       'pipeline-1__SEER Brain and CNS Recode=1.2 Embryonal tumors',\n",
       "       'pipeline-1__SEER Brain and CNS Recode=1.4 Choroid plexus tumors',\n",
       "       'pipeline-1__SEER Brain and CNS Recode=1.5 Neuronal and mixed neuronal-glial tumors',\n",
       "       'pipeline-1__SEER Brain and CNS Recode=1.6 Other Malignant Brain/ONS',\n",
       "       'pipeline-1__Primary Site - labeled=C71.1-Frontal lobe',\n",
       "       'pipeline-1__Primary Site - labeled=C71.2-Temporal lobe',\n",
       "       'pipeline-1__Primary Site - labeled=C71.3-Parietal lobe',\n",
       "       'pipeline-1__Primary Site - labeled=C71.4-Occipital lobe',\n",
       "       'pipeline-1__Primary Site - labeled=C71.5-Ventricle, NOS',\n",
       "       'pipeline-1__Primary Site - labeled=C71.6-Cerebellum, NOS',\n",
       "       'pipeline-1__Primary Site - labeled=C71.7-Brain stem',\n",
       "       'pipeline-1__Primary Site - labeled=C71.8-Overlapping lesion of brain',\n",
       "       'pipeline-1__Primary Site - labeled=C71.9-Brain, NOS',\n",
       "       'pipeline-1__Histologic Type ICD-O-3=8001',\n",
       "       'pipeline-1__Histologic Type ICD-O-3=8002',\n",
       "       'pipeline-1__Histologic Type ICD-O-3=8004',\n",
       "       'pipeline-1__Histologic Type ICD-O-3=8005',\n",
       "       'pipeline-1__Histologic Type ICD-O-3=8070',\n",
       "       'pipeline-1__Histologic Type ICD-O-3=8680',\n",
       "       'pipeline-1__Histologic Type ICD-O-3=8711',\n",
       "       'pipeline-1__Histologic Type ICD-O-3=8720',\n",
       "       'pipeline-1__Histologic Type ICD-O-3=8800',\n",
       "       'pipeline-1__Histologic Type ICD-O-3=8801',\n",
       "       'pipeline-1__Histologic Type ICD-O-3=8802',\n",
       "       'pipeline-1__Histologic Type ICD-O-3=8803',\n",
       "       'pipeline-1__Histologic Type ICD-O-3=8805',\n",
       "       'pipeline-1__Histologic Type ICD-O-3=8806',\n",
       "       'pipeline-1__Histologic Type ICD-O-3=8810',\n",
       "       'pipeline-1__Histologic Type ICD-O-3=8811',\n",
       "       'pipeline-1__Histologic Type ICD-O-3=8815',\n",
       "       'pipeline-1__Histologic Type ICD-O-3=8821',\n",
       "       'pipeline-1__Histologic Type ICD-O-3=8858',\n",
       "       'pipeline-1__Histologic Type ICD-O-3=8890',\n",
       "       'pipeline-1__Histologic Type ICD-O-3=8900',\n",
       "       'pipeline-1__Histologic Type ICD-O-3=8901',\n",
       "       'pipeline-1__Histologic Type ICD-O-3=8910',\n",
       "       'pipeline-1__Histologic Type ICD-O-3=8963',\n",
       "       'pipeline-1__Histologic Type ICD-O-3=8990',\n",
       "       'pipeline-1__Histologic Type ICD-O-3=9041',\n",
       "       'pipeline-1__Histologic Type ICD-O-3=9060',\n",
       "       'pipeline-1__Histologic Type ICD-O-3=9061',\n",
       "       'pipeline-1__Histologic Type ICD-O-3=9062',\n",
       "       'pipeline-1__Histologic Type ICD-O-3=9064',\n",
       "       'pipeline-1__Histologic Type ICD-O-3=9065',\n",
       "       'pipeline-1__Histologic Type ICD-O-3=9070',\n",
       "       'pipeline-1__Histologic Type ICD-O-3=9071',\n",
       "       'pipeline-1__Histologic Type ICD-O-3=9080',\n",
       "       'pipeline-1__Histologic Type ICD-O-3=9084',\n",
       "       'pipeline-1__Histologic Type ICD-O-3=9085',\n",
       "       'pipeline-1__Histologic Type ICD-O-3=9100',\n",
       "       'pipeline-1__Histologic Type ICD-O-3=9101',\n",
       "       'pipeline-1__Histologic Type ICD-O-3=9120',\n",
       "       'pipeline-1__Histologic Type ICD-O-3=9133',\n",
       "       'pipeline-1__Histologic Type ICD-O-3=9150',\n",
       "       'pipeline-1__Histologic Type ICD-O-3=9161',\n",
       "       'pipeline-1__Histologic Type ICD-O-3=9181',\n",
       "       'pipeline-1__Histologic Type ICD-O-3=9220',\n",
       "       'pipeline-1__Histologic Type ICD-O-3=9230',\n",
       "       'pipeline-1__Histologic Type ICD-O-3=9231',\n",
       "       'pipeline-1__Histologic Type ICD-O-3=9240',\n",
       "       'pipeline-1__Histologic Type ICD-O-3=9260',\n",
       "       'pipeline-1__Histologic Type ICD-O-3=9282',\n",
       "       'pipeline-1__Histologic Type ICD-O-3=9350',\n",
       "       'pipeline-1__Histologic Type ICD-O-3=9362',\n",
       "       'pipeline-1__Histologic Type ICD-O-3=9364',\n",
       "       'pipeline-1__Histologic Type ICD-O-3=9370',\n",
       "       'pipeline-1__Histologic Type ICD-O-3=9371',\n",
       "       'pipeline-1__Histologic Type ICD-O-3=9380',\n",
       "       'pipeline-1__Histologic Type ICD-O-3=9381',\n",
       "       'pipeline-1__Histologic Type ICD-O-3=9382',\n",
       "       'pipeline-1__Histologic Type ICD-O-3=9383',\n",
       "       'pipeline-1__Histologic Type ICD-O-3=9384',\n",
       "       'pipeline-1__Histologic Type ICD-O-3=9385',\n",
       "       'pipeline-1__Histologic Type ICD-O-3=9390',\n",
       "       'pipeline-1__Histologic Type ICD-O-3=9391',\n",
       "       'pipeline-1__Histologic Type ICD-O-3=9392',\n",
       "       'pipeline-1__Histologic Type ICD-O-3=9393',\n",
       "       'pipeline-1__Histologic Type ICD-O-3=9394',\n",
       "       'pipeline-1__Histologic Type ICD-O-3=9396',\n",
       "       'pipeline-1__Histologic Type ICD-O-3=9400',\n",
       "       'pipeline-1__Histologic Type ICD-O-3=9401',\n",
       "       'pipeline-1__Histologic Type ICD-O-3=9410',\n",
       "       'pipeline-1__Histologic Type ICD-O-3=9411',\n",
       "       'pipeline-1__Histologic Type ICD-O-3=9413',\n",
       "       'pipeline-1__Histologic Type ICD-O-3=9420',\n",
       "       'pipeline-1__Histologic Type ICD-O-3=9421',\n",
       "       'pipeline-1__Histologic Type ICD-O-3=9423',\n",
       "       'pipeline-1__Histologic Type ICD-O-3=9424',\n",
       "       'pipeline-1__Histologic Type ICD-O-3=9425',\n",
       "       'pipeline-1__Histologic Type ICD-O-3=9430',\n",
       "       'pipeline-1__Histologic Type ICD-O-3=9440',\n",
       "       'pipeline-1__Histologic Type ICD-O-3=9441',\n",
       "       'pipeline-1__Histologic Type ICD-O-3=9442',\n",
       "       'pipeline-1__Histologic Type ICD-O-3=9444',\n",
       "       'pipeline-1__Histologic Type ICD-O-3=9445',\n",
       "       'pipeline-1__Histologic Type ICD-O-3=9450',\n",
       "       'pipeline-1__Histologic Type ICD-O-3=9451',\n",
       "       'pipeline-1__Histologic Type ICD-O-3=9460',\n",
       "       'pipeline-1__Histologic Type ICD-O-3=9470',\n",
       "       'pipeline-1__Histologic Type ICD-O-3=9471',\n",
       "       'pipeline-1__Histologic Type ICD-O-3=9472',\n",
       "       'pipeline-1__Histologic Type ICD-O-3=9473',\n",
       "       'pipeline-1__Histologic Type ICD-O-3=9474',\n",
       "       'pipeline-1__Histologic Type ICD-O-3=9475',\n",
       "       'pipeline-1__Histologic Type ICD-O-3=9476',\n",
       "       'pipeline-1__Histologic Type ICD-O-3=9477',\n",
       "       'pipeline-1__Histologic Type ICD-O-3=9490',\n",
       "       'pipeline-1__Histologic Type ICD-O-3=9500',\n",
       "       'pipeline-1__Histologic Type ICD-O-3=9501',\n",
       "       'pipeline-1__Histologic Type ICD-O-3=9503',\n",
       "       'pipeline-1__Histologic Type ICD-O-3=9505',\n",
       "       'pipeline-1__Histologic Type ICD-O-3=9506',\n",
       "       'pipeline-1__Histologic Type ICD-O-3=9508',\n",
       "       'pipeline-1__Histologic Type ICD-O-3=9522',\n",
       "       'pipeline-1__Histologic Type ICD-O-3=9540',\n",
       "       'pipeline-1__Histologic Type ICD-O-3=9560',\n",
       "       'pipeline-1__Histologic Type ICD-O-3=9561',\n",
       "       'pipeline-1__Histologic Type ICD-O-3=9580',\n",
       "       'pipeline-1__Grade Recode (thru 2017)=Poorly differentiated; Grade III',\n",
       "       'pipeline-1__Grade Recode (thru 2017)=Undifferentiated; anaplastic; Grade IV',\n",
       "       'pipeline-1__Grade Recode (thru 2017)=Unknown',\n",
       "       'pipeline-1__Grade Recode (thru 2017)=Well differentiated; Grade I',\n",
       "       'pipeline-1__Diagnostic Confirmation=Direct visualization without microscopic confirmation',\n",
       "       'pipeline-1__Diagnostic Confirmation=Pos hist AND immunophenotyping AND/OR pos genetic studies',\n",
       "       'pipeline-1__Diagnostic Confirmation=Positive exfoliative cytology, no positive histology',\n",
       "       'pipeline-1__Diagnostic Confirmation=Positive histology',\n",
       "       'pipeline-1__Diagnostic Confirmation=Positive laboratory test/marker study',\n",
       "       'pipeline-1__Diagnostic Confirmation=Positive microscopic confirm, method not specified',\n",
       "       'pipeline-1__Diagnostic Confirmation=Radiography without microscopic confirm',\n",
       "       'pipeline-1__Diagnostic Confirmation=Unknown',\n",
       "       'pipeline-1__Histology recode - broad groupings=8050-8089: squamous cell neoplasms',\n",
       "       'pipeline-1__Histology recode - broad groupings=8680-8719: paragangliomas and glumus tumors',\n",
       "       'pipeline-1__Histology recode - broad groupings=8720-8799: nevi and melanomas',\n",
       "       'pipeline-1__Histology recode - broad groupings=8800-8809: soft tissue tumors and sarcomas, NOS',\n",
       "       'pipeline-1__Histology recode - broad groupings=8810-8839: fibromatous neoplasms',\n",
       "       'pipeline-1__Histology recode - broad groupings=8850-8889: lipomatous neoplasms',\n",
       "       'pipeline-1__Histology recode - broad groupings=8890-8929: myomatous neoplasms',\n",
       "       'pipeline-1__Histology recode - broad groupings=8930-8999: complex mixed and stromal neoplasms',\n",
       "       'pipeline-1__Histology recode - broad groupings=9040-9049: synovial-like neoplasms',\n",
       "       'pipeline-1__Histology recode - broad groupings=9060-9099: germ cell neoplasms',\n",
       "       'pipeline-1__Histology recode - broad groupings=9100-9109: trophoblastic neoplasms',\n",
       "       'pipeline-1__Histology recode - broad groupings=9120-9169: blood vessel tumors',\n",
       "       'pipeline-1__Histology recode - broad groupings=9180-9249: osseous and chondromatous neoplasms',\n",
       "       'pipeline-1__Histology recode - broad groupings=9260-9269: miscellaneous bone tumors (C40._, C41._)',\n",
       "       'pipeline-1__Histology recode - broad groupings=9270-9349: odontogenic tumors (C41._)',\n",
       "       'pipeline-1__Histology recode - broad groupings=9350-9379: miscellaneous tumors',\n",
       "       'pipeline-1__Histology recode - broad groupings=9380-9489: gliomas',\n",
       "       'pipeline-1__Histology recode - broad groupings=9490-9529: neuroepitheliomatous neoplasms',\n",
       "       'pipeline-1__Histology recode - broad groupings=9540-9579: nerve sheath tumors',\n",
       "       'pipeline-1__Histology recode - broad groupings=9580-9589: granular cell tumors & alveolar soft part sarcoma',\n",
       "       'pipeline-1__Chromosome 19q: Loss of Heterozygosity (LOH) Recode (2010+)=Chromosome 19q deletion/LOH present',\n",
       "       'pipeline-1__Chromosome 19q: Loss of Heterozygosity (LOH) Recode (2010+)=Not applicable: Information not collected for this case',\n",
       "       'pipeline-1__Chromosome 19q: Loss of Heterozygosity (LOH) Recode (2010+)=Not documented; Cannot be determined; Not assessed or unknown if assessed',\n",
       "       'pipeline-1__Chromosome 19q: Loss of Heterozygosity (LOH) Recode (2010+)=Test ordered, results not in chart',\n",
       "       'pipeline-1__Chromosome 19q: Loss of Heterozygosity (LOH) Recode (2010+)=missing_value',\n",
       "       'pipeline-1__Chromosome 1p: Loss of Heterozygosity (LOH) Recode (2010+)=Chromosome 1p deletion/LOH not identified/not present',\n",
       "       'pipeline-1__Chromosome 1p: Loss of Heterozygosity (LOH) Recode (2010+)=Not applicable: Information not collected for this case',\n",
       "       'pipeline-1__Chromosome 1p: Loss of Heterozygosity (LOH) Recode (2010+)=Not documented; Cannot be determined; Not assessed or unknown if assessed',\n",
       "       'pipeline-1__Chromosome 1p: Loss of Heterozygosity (LOH) Recode (2010+)=Test ordered, results not in chart',\n",
       "       'pipeline-1__Chromosome 1p: Loss of Heterozygosity (LOH) Recode (2010+)=missing_value',\n",
       "       'pipeline-1__Brain Molecular Markers (2018+)=Anaplastic astrocytoma, IDH-wildtype (9401/3)',\n",
       "       'pipeline-1__Brain Molecular Markers (2018+)=Anaplastic oligodendroglioma, IDH-mutant and 1 p/19q co-deleted (9451/3)',\n",
       "       'pipeline-1__Brain Molecular Markers (2018+)=Diffuse astrocytoma, IDH-mutant (9400/3)',\n",
       "       'pipeline-1__Brain Molecular Markers (2018+)=Diffuse astrocytoma, IDH-wildtype (9400/3)',\n",
       "       'pipeline-1__Brain Molecular Markers (2018+)=Glioblastoma, IDH-wildtype (9440/3)',\n",
       "       'pipeline-1__Brain Molecular Markers (2018+)=Medulloblastoma, SHH-activated and TP53-wildtype (9471/3)',\n",
       "       'pipeline-1__Brain Molecular Markers (2018+)=NA: Histology not 9400/3, 9401/3, 9440/3, 9450/3, 9451/3, 9471/3, 9478/3',\n",
       "       'pipeline-1__Brain Molecular Markers (2018+)=Not documented; No microscopic confirmation; Not assessed or unknown if assessed',\n",
       "       'pipeline-1__Brain Molecular Markers (2018+)=Oligodendroglioma, IDH-mutant and 1 p/19q co-deleted (9450/3)',\n",
       "       'pipeline-1__Brain Molecular Markers (2018+)=Test ordered, results not in chart',\n",
       "       'pipeline-1__Brain Molecular Markers (2018+)=missing_value',\n",
       "       'pipeline-1__missingindicator_Chromosome 19q: Loss of Heterozygosity (LOH) Recode (2010+)=True',\n",
       "       'pipeline-1__missingindicator_Chromosome 1p: Loss of Heterozygosity (LOH) Recode (2010+)=True',\n",
       "       'pipeline-1__missingindicator_Brain Molecular Markers (2018+)=True',\n",
       "       'pipeline-2__Months from diagnosis to treatment',\n",
       "       'pipeline-2__missingindicator_Months from diagnosis to treatment'],\n",
       "      dtype=object)"
      ]
     },
     "execution_count": 19,
     "metadata": {},
     "output_type": "execute_result"
    }
   ],
   "source": [
    "ct = column_transformer.fit(X_train)\n",
    "feature_names = ct.get_feature_names_out()\n",
    "feature_names"
   ]
  },
  {
   "cell_type": "code",
   "execution_count": 20,
   "metadata": {},
   "outputs": [],
   "source": [
    "pipeline = make_pipeline(\n",
    "    column_transformer,\n",
    "    CoxnetSurvivalAnalysis(verbose=True, fit_baseline_model=False)\n",
    ")"
   ]
  },
  {
   "cell_type": "code",
   "execution_count": 21,
   "metadata": {},
   "outputs": [
    {
     "data": {
      "text/html": [
       "<style>#sk-container-id-1 {color: black;}#sk-container-id-1 pre{padding: 0;}#sk-container-id-1 div.sk-toggleable {background-color: white;}#sk-container-id-1 label.sk-toggleable__label {cursor: pointer;display: block;width: 100%;margin-bottom: 0;padding: 0.3em;box-sizing: border-box;text-align: center;}#sk-container-id-1 label.sk-toggleable__label-arrow:before {content: \"▸\";float: left;margin-right: 0.25em;color: #696969;}#sk-container-id-1 label.sk-toggleable__label-arrow:hover:before {color: black;}#sk-container-id-1 div.sk-estimator:hover label.sk-toggleable__label-arrow:before {color: black;}#sk-container-id-1 div.sk-toggleable__content {max-height: 0;max-width: 0;overflow: hidden;text-align: left;background-color: #f0f8ff;}#sk-container-id-1 div.sk-toggleable__content pre {margin: 0.2em;color: black;border-radius: 0.25em;background-color: #f0f8ff;}#sk-container-id-1 input.sk-toggleable__control:checked~div.sk-toggleable__content {max-height: 200px;max-width: 100%;overflow: auto;}#sk-container-id-1 input.sk-toggleable__control:checked~label.sk-toggleable__label-arrow:before {content: \"▾\";}#sk-container-id-1 div.sk-estimator input.sk-toggleable__control:checked~label.sk-toggleable__label {background-color: #d4ebff;}#sk-container-id-1 div.sk-label input.sk-toggleable__control:checked~label.sk-toggleable__label {background-color: #d4ebff;}#sk-container-id-1 input.sk-hidden--visually {border: 0;clip: rect(1px 1px 1px 1px);clip: rect(1px, 1px, 1px, 1px);height: 1px;margin: -1px;overflow: hidden;padding: 0;position: absolute;width: 1px;}#sk-container-id-1 div.sk-estimator {font-family: monospace;background-color: #f0f8ff;border: 1px dotted black;border-radius: 0.25em;box-sizing: border-box;margin-bottom: 0.5em;}#sk-container-id-1 div.sk-estimator:hover {background-color: #d4ebff;}#sk-container-id-1 div.sk-parallel-item::after {content: \"\";width: 100%;border-bottom: 1px solid gray;flex-grow: 1;}#sk-container-id-1 div.sk-label:hover label.sk-toggleable__label {background-color: #d4ebff;}#sk-container-id-1 div.sk-serial::before {content: \"\";position: absolute;border-left: 1px solid gray;box-sizing: border-box;top: 0;bottom: 0;left: 50%;z-index: 0;}#sk-container-id-1 div.sk-serial {display: flex;flex-direction: column;align-items: center;background-color: white;padding-right: 0.2em;padding-left: 0.2em;position: relative;}#sk-container-id-1 div.sk-item {position: relative;z-index: 1;}#sk-container-id-1 div.sk-parallel {display: flex;align-items: stretch;justify-content: center;background-color: white;position: relative;}#sk-container-id-1 div.sk-item::before, #sk-container-id-1 div.sk-parallel-item::before {content: \"\";position: absolute;border-left: 1px solid gray;box-sizing: border-box;top: 0;bottom: 0;left: 50%;z-index: -1;}#sk-container-id-1 div.sk-parallel-item {display: flex;flex-direction: column;z-index: 1;position: relative;background-color: white;}#sk-container-id-1 div.sk-parallel-item:first-child::after {align-self: flex-end;width: 50%;}#sk-container-id-1 div.sk-parallel-item:last-child::after {align-self: flex-start;width: 50%;}#sk-container-id-1 div.sk-parallel-item:only-child::after {width: 0;}#sk-container-id-1 div.sk-dashed-wrapped {border: 1px dashed gray;margin: 0 0.4em 0.5em 0.4em;box-sizing: border-box;padding-bottom: 0.4em;background-color: white;}#sk-container-id-1 div.sk-label label {font-family: monospace;font-weight: bold;display: inline-block;line-height: 1.2em;}#sk-container-id-1 div.sk-label-container {text-align: center;}#sk-container-id-1 div.sk-container {/* jupyter's `normalize.less` sets `[hidden] { display: none; }` but bootstrap.min.css set `[hidden] { display: none !important; }` so we also need the `!important` here to be able to override the default hidden behavior on the sphinx rendered scikit-learn.org. See: https://github.com/scikit-learn/scikit-learn/issues/21755 */display: inline-block !important;position: relative;}#sk-container-id-1 div.sk-text-repr-fallback {display: none;}</style><div id=\"sk-container-id-1\" class=\"sk-top-container\"><div class=\"sk-text-repr-fallback\"><pre>Pipeline(steps=[(&#x27;columntransformer&#x27;,\n",
       "                 ColumnTransformer(n_jobs=-1,\n",
       "                                   transformers=[(&#x27;standardscaler&#x27;,\n",
       "                                                  StandardScaler(),\n",
       "                                                  [&#x27;Year of diagnosis&#x27;,\n",
       "                                                   &#x27;Median household income &#x27;\n",
       "                                                   &#x27;inflation adj to 2021 &#x27;\n",
       "                                                   &#x27;(thousands USD)&#x27;,\n",
       "                                                   &#x27;Total number of in &#x27;\n",
       "                                                   &#x27;situ/malignant tumors for &#x27;\n",
       "                                                   &#x27;patient&#x27;,\n",
       "                                                   &#x27;Combined Tumor Size&#x27;,\n",
       "                                                   &#x27;No tumor found&#x27;,\n",
       "                                                   &#x27;Unknown tumor size&#x27;]),\n",
       "                                                 (&#x27;pipeline-1&#x27;,\n",
       "                                                  Pipeline(steps=[(&#x27;simpleimputer&#x27;,\n",
       "                                                                   Si...\n",
       "                                                   &#x27;Heterozygosity (LOH) &#x27;\n",
       "                                                   &#x27;Recode (2010+)&#x27;,\n",
       "                                                   &#x27;Chromosome 1p: Loss of &#x27;\n",
       "                                                   &#x27;Heterozygosity (LOH) &#x27;\n",
       "                                                   &#x27;Recode (2010+)&#x27;,\n",
       "                                                   &#x27;Brain Molecular Markers &#x27;\n",
       "                                                   &#x27;(2018+)&#x27;]),\n",
       "                                                 (&#x27;pipeline-2&#x27;,\n",
       "                                                  Pipeline(steps=[(&#x27;simpleimputer&#x27;,\n",
       "                                                                   SimpleImputer(add_indicator=True)),\n",
       "                                                                  (&#x27;standardscaler&#x27;,\n",
       "                                                                   StandardScaler())]),\n",
       "                                                  [&#x27;Months from diagnosis to &#x27;\n",
       "                                                   &#x27;treatment&#x27;])])),\n",
       "                (&#x27;coxnetsurvivalanalysis&#x27;,\n",
       "                 CoxnetSurvivalAnalysis(verbose=True))])</pre><b>In a Jupyter environment, please rerun this cell to show the HTML representation or trust the notebook. <br />On GitHub, the HTML representation is unable to render, please try loading this page with nbviewer.org.</b></div><div class=\"sk-container\" hidden><div class=\"sk-item sk-dashed-wrapped\"><div class=\"sk-label-container\"><div class=\"sk-label sk-toggleable\"><input class=\"sk-toggleable__control sk-hidden--visually\" id=\"sk-estimator-id-1\" type=\"checkbox\" ><label for=\"sk-estimator-id-1\" class=\"sk-toggleable__label sk-toggleable__label-arrow\">Pipeline</label><div class=\"sk-toggleable__content\"><pre>Pipeline(steps=[(&#x27;columntransformer&#x27;,\n",
       "                 ColumnTransformer(n_jobs=-1,\n",
       "                                   transformers=[(&#x27;standardscaler&#x27;,\n",
       "                                                  StandardScaler(),\n",
       "                                                  [&#x27;Year of diagnosis&#x27;,\n",
       "                                                   &#x27;Median household income &#x27;\n",
       "                                                   &#x27;inflation adj to 2021 &#x27;\n",
       "                                                   &#x27;(thousands USD)&#x27;,\n",
       "                                                   &#x27;Total number of in &#x27;\n",
       "                                                   &#x27;situ/malignant tumors for &#x27;\n",
       "                                                   &#x27;patient&#x27;,\n",
       "                                                   &#x27;Combined Tumor Size&#x27;,\n",
       "                                                   &#x27;No tumor found&#x27;,\n",
       "                                                   &#x27;Unknown tumor size&#x27;]),\n",
       "                                                 (&#x27;pipeline-1&#x27;,\n",
       "                                                  Pipeline(steps=[(&#x27;simpleimputer&#x27;,\n",
       "                                                                   Si...\n",
       "                                                   &#x27;Heterozygosity (LOH) &#x27;\n",
       "                                                   &#x27;Recode (2010+)&#x27;,\n",
       "                                                   &#x27;Chromosome 1p: Loss of &#x27;\n",
       "                                                   &#x27;Heterozygosity (LOH) &#x27;\n",
       "                                                   &#x27;Recode (2010+)&#x27;,\n",
       "                                                   &#x27;Brain Molecular Markers &#x27;\n",
       "                                                   &#x27;(2018+)&#x27;]),\n",
       "                                                 (&#x27;pipeline-2&#x27;,\n",
       "                                                  Pipeline(steps=[(&#x27;simpleimputer&#x27;,\n",
       "                                                                   SimpleImputer(add_indicator=True)),\n",
       "                                                                  (&#x27;standardscaler&#x27;,\n",
       "                                                                   StandardScaler())]),\n",
       "                                                  [&#x27;Months from diagnosis to &#x27;\n",
       "                                                   &#x27;treatment&#x27;])])),\n",
       "                (&#x27;coxnetsurvivalanalysis&#x27;,\n",
       "                 CoxnetSurvivalAnalysis(verbose=True))])</pre></div></div></div><div class=\"sk-serial\"><div class=\"sk-item sk-dashed-wrapped\"><div class=\"sk-label-container\"><div class=\"sk-label sk-toggleable\"><input class=\"sk-toggleable__control sk-hidden--visually\" id=\"sk-estimator-id-2\" type=\"checkbox\" ><label for=\"sk-estimator-id-2\" class=\"sk-toggleable__label sk-toggleable__label-arrow\">columntransformer: ColumnTransformer</label><div class=\"sk-toggleable__content\"><pre>ColumnTransformer(n_jobs=-1,\n",
       "                  transformers=[(&#x27;standardscaler&#x27;, StandardScaler(),\n",
       "                                 [&#x27;Year of diagnosis&#x27;,\n",
       "                                  &#x27;Median household income inflation adj to &#x27;\n",
       "                                  &#x27;2021 (thousands USD)&#x27;,\n",
       "                                  &#x27;Total number of in situ/malignant tumors &#x27;\n",
       "                                  &#x27;for patient&#x27;,\n",
       "                                  &#x27;Combined Tumor Size&#x27;, &#x27;No tumor found&#x27;,\n",
       "                                  &#x27;Unknown tumor size&#x27;]),\n",
       "                                (&#x27;pipeline-1&#x27;,\n",
       "                                 Pipeline(steps=[(&#x27;simpleimputer&#x27;,\n",
       "                                                  SimpleImputer(add_indicator=True,\n",
       "                                                                strategy=&#x27;...\n",
       "                                  &#x27;Diagnostic Confirmation&#x27;,\n",
       "                                  &#x27;Histology recode - broad groupings&#x27;,\n",
       "                                  &#x27;Chromosome 19q: Loss of Heterozygosity &#x27;\n",
       "                                  &#x27;(LOH) Recode (2010+)&#x27;,\n",
       "                                  &#x27;Chromosome 1p: Loss of Heterozygosity (LOH) &#x27;\n",
       "                                  &#x27;Recode (2010+)&#x27;,\n",
       "                                  &#x27;Brain Molecular Markers (2018+)&#x27;]),\n",
       "                                (&#x27;pipeline-2&#x27;,\n",
       "                                 Pipeline(steps=[(&#x27;simpleimputer&#x27;,\n",
       "                                                  SimpleImputer(add_indicator=True)),\n",
       "                                                 (&#x27;standardscaler&#x27;,\n",
       "                                                  StandardScaler())]),\n",
       "                                 [&#x27;Months from diagnosis to treatment&#x27;])])</pre></div></div></div><div class=\"sk-parallel\"><div class=\"sk-parallel-item\"><div class=\"sk-item\"><div class=\"sk-label-container\"><div class=\"sk-label sk-toggleable\"><input class=\"sk-toggleable__control sk-hidden--visually\" id=\"sk-estimator-id-3\" type=\"checkbox\" ><label for=\"sk-estimator-id-3\" class=\"sk-toggleable__label sk-toggleable__label-arrow\">standardscaler</label><div class=\"sk-toggleable__content\"><pre>[&#x27;Year of diagnosis&#x27;, &#x27;Median household income inflation adj to 2021 (thousands USD)&#x27;, &#x27;Total number of in situ/malignant tumors for patient&#x27;, &#x27;Combined Tumor Size&#x27;, &#x27;No tumor found&#x27;, &#x27;Unknown tumor size&#x27;]</pre></div></div></div><div class=\"sk-serial\"><div class=\"sk-item\"><div class=\"sk-estimator sk-toggleable\"><input class=\"sk-toggleable__control sk-hidden--visually\" id=\"sk-estimator-id-4\" type=\"checkbox\" ><label for=\"sk-estimator-id-4\" class=\"sk-toggleable__label sk-toggleable__label-arrow\">StandardScaler</label><div class=\"sk-toggleable__content\"><pre>StandardScaler()</pre></div></div></div></div></div></div><div class=\"sk-parallel-item\"><div class=\"sk-item\"><div class=\"sk-label-container\"><div class=\"sk-label sk-toggleable\"><input class=\"sk-toggleable__control sk-hidden--visually\" id=\"sk-estimator-id-5\" type=\"checkbox\" ><label for=\"sk-estimator-id-5\" class=\"sk-toggleable__label sk-toggleable__label-arrow\">pipeline-1</label><div class=\"sk-toggleable__content\"><pre>[&#x27;Age standard for survival&#x27;, &#x27;Sex&#x27;, &#x27;Race recode (W, B, AI, API)&#x27;, &#x27;Race and origin recode (NHW, NHB, NHAIAN, NHAPI, Hispanic)&#x27;, &#x27;Marital status at diagnosis&#x27;, &#x27;SEER Brain and CNS Recode&#x27;, &#x27;Primary Site - labeled&#x27;, &#x27;Histologic Type ICD-O-3&#x27;, &#x27;Grade Recode (thru 2017)&#x27;, &#x27;Diagnostic Confirmation&#x27;, &#x27;Histology recode - broad groupings&#x27;, &#x27;Chromosome 19q: Loss of Heterozygosity (LOH) Recode (2010+)&#x27;, &#x27;Chromosome 1p: Loss of Heterozygosity (LOH) Recode (2010+)&#x27;, &#x27;Brain Molecular Markers (2018+)&#x27;]</pre></div></div></div><div class=\"sk-serial\"><div class=\"sk-item\"><div class=\"sk-serial\"><div class=\"sk-item\"><div class=\"sk-estimator sk-toggleable\"><input class=\"sk-toggleable__control sk-hidden--visually\" id=\"sk-estimator-id-6\" type=\"checkbox\" ><label for=\"sk-estimator-id-6\" class=\"sk-toggleable__label sk-toggleable__label-arrow\">SimpleImputer</label><div class=\"sk-toggleable__content\"><pre>SimpleImputer(add_indicator=True, strategy=&#x27;constant&#x27;)</pre></div></div></div><div class=\"sk-item\"><div class=\"sk-estimator sk-toggleable\"><input class=\"sk-toggleable__control sk-hidden--visually\" id=\"sk-estimator-id-7\" type=\"checkbox\" ><label for=\"sk-estimator-id-7\" class=\"sk-toggleable__label sk-toggleable__label-arrow\">DataFrameTransformer</label><div class=\"sk-toggleable__content\"><pre>DataFrameTransformer()</pre></div></div></div><div class=\"sk-item\"><div class=\"sk-estimator sk-toggleable\"><input class=\"sk-toggleable__control sk-hidden--visually\" id=\"sk-estimator-id-8\" type=\"checkbox\" ><label for=\"sk-estimator-id-8\" class=\"sk-toggleable__label sk-toggleable__label-arrow\">OneHotEncoder</label><div class=\"sk-toggleable__content\"><pre>OneHotEncoder()</pre></div></div></div><div class=\"sk-item\"><div class=\"sk-estimator sk-toggleable\"><input class=\"sk-toggleable__control sk-hidden--visually\" id=\"sk-estimator-id-9\" type=\"checkbox\" ><label for=\"sk-estimator-id-9\" class=\"sk-toggleable__label sk-toggleable__label-arrow\">StandardScaler</label><div class=\"sk-toggleable__content\"><pre>StandardScaler()</pre></div></div></div></div></div></div></div></div><div class=\"sk-parallel-item\"><div class=\"sk-item\"><div class=\"sk-label-container\"><div class=\"sk-label sk-toggleable\"><input class=\"sk-toggleable__control sk-hidden--visually\" id=\"sk-estimator-id-10\" type=\"checkbox\" ><label for=\"sk-estimator-id-10\" class=\"sk-toggleable__label sk-toggleable__label-arrow\">pipeline-2</label><div class=\"sk-toggleable__content\"><pre>[&#x27;Months from diagnosis to treatment&#x27;]</pre></div></div></div><div class=\"sk-serial\"><div class=\"sk-item\"><div class=\"sk-serial\"><div class=\"sk-item\"><div class=\"sk-estimator sk-toggleable\"><input class=\"sk-toggleable__control sk-hidden--visually\" id=\"sk-estimator-id-11\" type=\"checkbox\" ><label for=\"sk-estimator-id-11\" class=\"sk-toggleable__label sk-toggleable__label-arrow\">SimpleImputer</label><div class=\"sk-toggleable__content\"><pre>SimpleImputer(add_indicator=True)</pre></div></div></div><div class=\"sk-item\"><div class=\"sk-estimator sk-toggleable\"><input class=\"sk-toggleable__control sk-hidden--visually\" id=\"sk-estimator-id-12\" type=\"checkbox\" ><label for=\"sk-estimator-id-12\" class=\"sk-toggleable__label sk-toggleable__label-arrow\">StandardScaler</label><div class=\"sk-toggleable__content\"><pre>StandardScaler()</pre></div></div></div></div></div></div></div></div></div></div><div class=\"sk-item\"><div class=\"sk-estimator sk-toggleable\"><input class=\"sk-toggleable__control sk-hidden--visually\" id=\"sk-estimator-id-13\" type=\"checkbox\" ><label for=\"sk-estimator-id-13\" class=\"sk-toggleable__label sk-toggleable__label-arrow\">CoxnetSurvivalAnalysis</label><div class=\"sk-toggleable__content\"><pre>CoxnetSurvivalAnalysis(verbose=True)</pre></div></div></div></div></div></div></div>"
      ],
      "text/plain": [
       "Pipeline(steps=[('columntransformer',\n",
       "                 ColumnTransformer(n_jobs=-1,\n",
       "                                   transformers=[('standardscaler',\n",
       "                                                  StandardScaler(),\n",
       "                                                  ['Year of diagnosis',\n",
       "                                                   'Median household income '\n",
       "                                                   'inflation adj to 2021 '\n",
       "                                                   '(thousands USD)',\n",
       "                                                   'Total number of in '\n",
       "                                                   'situ/malignant tumors for '\n",
       "                                                   'patient',\n",
       "                                                   'Combined Tumor Size',\n",
       "                                                   'No tumor found',\n",
       "                                                   'Unknown tumor size']),\n",
       "                                                 ('pipeline-1',\n",
       "                                                  Pipeline(steps=[('simpleimputer',\n",
       "                                                                   Si...\n",
       "                                                   'Heterozygosity (LOH) '\n",
       "                                                   'Recode (2010+)',\n",
       "                                                   'Chromosome 1p: Loss of '\n",
       "                                                   'Heterozygosity (LOH) '\n",
       "                                                   'Recode (2010+)',\n",
       "                                                   'Brain Molecular Markers '\n",
       "                                                   '(2018+)']),\n",
       "                                                 ('pipeline-2',\n",
       "                                                  Pipeline(steps=[('simpleimputer',\n",
       "                                                                   SimpleImputer(add_indicator=True)),\n",
       "                                                                  ('standardscaler',\n",
       "                                                                   StandardScaler())]),\n",
       "                                                  ['Months from diagnosis to '\n",
       "                                                   'treatment'])])),\n",
       "                ('coxnetsurvivalanalysis',\n",
       "                 CoxnetSurvivalAnalysis(verbose=True))])"
      ]
     },
     "execution_count": 21,
     "metadata": {},
     "output_type": "execute_result"
    }
   ],
   "source": [
    "pipeline.fit(X_train, y_train.to_records(index=False))"
   ]
  },
  {
   "cell_type": "code",
   "execution_count": 22,
   "metadata": {},
   "outputs": [
    {
     "data": {
      "text/plain": [
       "array([[ 0.40049512, -1.36485533, -0.15788384, ...,  0.43276706,\n",
       "        -0.42146307, -0.42691093],\n",
       "       [ 1.07362015, -1.36485533, -0.15788384, ...,  0.43276706,\n",
       "        -0.42146307, -0.42691093],\n",
       "       [-0.27262991, -1.36485533, -0.15788384, ...,  0.43276706,\n",
       "         1.43958292, -0.42691093],\n",
       "       ...,\n",
       "       [ 0.90533889, -0.92908403, -0.15788384, ...,  0.43276706,\n",
       "         2.37010592, -0.42691093],\n",
       "       [ 0.23221386,  0.81400118, -0.15788384, ...,  0.43276706,\n",
       "        -0.42146307, -0.42691093],\n",
       "       [-0.27262991, -1.36485533, -0.15788384, ...,  0.43276706,\n",
       "        -0.42146307, -0.42691093]])"
      ]
     },
     "execution_count": 22,
     "metadata": {},
     "output_type": "execute_result"
    }
   ],
   "source": [
    "X_transformed = column_transformer.fit_transform(X_train)\n",
    "X_transformed"
   ]
  },
  {
   "cell_type": "code",
   "execution_count": 23,
   "metadata": {},
   "outputs": [
    {
     "data": {
      "text/plain": [
       "0.7760636962367231"
      ]
     },
     "execution_count": 23,
     "metadata": {},
     "output_type": "execute_result"
    }
   ],
   "source": [
    "pipeline.score(X_train, y_train.to_records(index=False))"
   ]
  },
  {
   "cell_type": "code",
   "execution_count": 24,
   "metadata": {},
   "outputs": [
    {
     "data": {
      "text/plain": [
       "0.7760598085921208"
      ]
     },
     "execution_count": 24,
     "metadata": {},
     "output_type": "execute_result"
    }
   ],
   "source": [
    "coxnet = CoxnetSurvivalAnalysis(l1_ratio=0.8, verbose=True, fit_baseline_model=False)\n",
    "coxnet.fit(X_transformed, y_train.to_records(index=False))\n",
    "coxnet.score(X_transformed, y_train.to_records(index=False))"
   ]
  },
  {
   "cell_type": "code",
   "execution_count": 25,
   "metadata": {},
   "outputs": [],
   "source": [
    "def build_2D_gridsearch(pipeline, cv, l1_ratios, alphas):\n",
    "    # argument alphas of CoxnetSurvivalAnalysis must be an array at each grid point\n",
    "    wrapped_alphas = [[alpha] for alpha in alphas]\n",
    "    cv_search_dist = {\n",
    "        'l1_ratio': l1_ratios,\n",
    "        'alphas': wrapped_alphas,\n",
    "    }\n",
    "    cv_search = GridSearchCV(\n",
    "        pipeline,\n",
    "        cv_search_dist,\n",
    "        cv=cv,\n",
    "        error_score=0.5,  # replaces fit errors with random models\n",
    "        n_jobs=-1,\n",
    "        verbose=4,\n",
    "    )\n",
    "    return cv_search"
   ]
  },
  {
   "cell_type": "code",
   "execution_count": 26,
   "metadata": {},
   "outputs": [],
   "source": [
    "# Grid search hyperparameters\n",
    "n_splits = 3\n",
    "l1_ratios = np.linspace(0.8, 1.0, 6)\n",
    "alphas = 10.0 ** np.linspace(-6, -1, 6)"
   ]
  },
  {
   "cell_type": "code",
   "execution_count": 27,
   "metadata": {},
   "outputs": [],
   "source": [
    "# Make the K-fold split deterministic for now\n",
    "cv = KFold(n_splits=n_splits, shuffle=True, random_state=2984)\n",
    "\n",
    "# Build the grid search metaestimator\n",
    "coxnet = CoxnetSurvivalAnalysis(verbose=True, fit_baseline_model=False)\n",
    "cv_search = build_2D_gridsearch(coxnet, cv, l1_ratios, alphas)"
   ]
  },
  {
   "cell_type": "code",
   "execution_count": null,
   "metadata": {},
   "outputs": [],
   "source": [
    "cv_search.fit(X_transformed, y_train.to_records(index=False))"
   ]
  },
  {
   "cell_type": "code",
   "execution_count": null,
   "metadata": {},
   "outputs": [],
   "source": [
    "cv_results = pd.DataFrame(cv_search.cv_results_)\n",
    "cv_results"
   ]
  },
  {
   "cell_type": "code",
   "execution_count": null,
   "metadata": {},
   "outputs": [],
   "source": [
    "cv_search.best_params_"
   ]
  },
  {
   "cell_type": "code",
   "execution_count": null,
   "metadata": {},
   "outputs": [],
   "source": [
    "cv_results.param_alphas"
   ]
  },
  {
   "cell_type": "code",
   "execution_count": null,
   "metadata": {},
   "outputs": [],
   "source": [
    "cv_results.mean_test_score"
   ]
  },
  {
   "cell_type": "code",
   "execution_count": null,
   "metadata": {},
   "outputs": [],
   "source": [
    "l1s = []\n",
    "mean = []\n",
    "std = []\n",
    "for i, alphas in enumerate(cv_results.param_alphas):\n",
    "    if alphas != cv_search.best_params_[\"alphas\"]:\n",
    "        continue\n",
    "    l1s.append(cv_results.param_l1_ratio[i])\n",
    "    mean.append(cv_results.mean_test_score[i])\n",
    "    std.append(cv_results.std_test_score[i])\n",
    "\n",
    "fig, ax = plt.subplots(figsize=(9, 6))\n",
    "ax.plot(l1s, mean, 'o-')\n",
    "ax.fill_between(l1s, np.asarray(mean) - np.asarray(std), np.asarray(mean) + np.asarray(std), alpha=0.15)\n",
    "ax.set_xscale(\"log\")\n",
    "ax.set_ylabel(\"concordance index\")\n",
    "ax.set_xlabel(\"l1\")\n",
    "ax.axvline(cv_search.best_params_[\"l1_ratio\"], c=\"C1\")\n",
    "ax.axhline(0.5, color=\"grey\", linestyle=\"--\")\n",
    "ax.grid(True)"
   ]
  },
  {
   "cell_type": "code",
   "execution_count": null,
   "metadata": {},
   "outputs": [],
   "source": [
    "alphas = []\n",
    "mean = []\n",
    "std = []\n",
    "for i, l1_ratio in enumerate(cv_results.param_l1_ratio):\n",
    "    if l1_ratio != cv_search.best_params_[\"l1_ratio\"]:\n",
    "        continue\n",
    "    alphas.append(cv_results.param_alphas[i][0])\n",
    "    mean.append(cv_results.mean_test_score[i])\n",
    "    std.append(cv_results.std_test_score[i])\n",
    "\n",
    "fig, ax = plt.subplots(figsize=(9, 6))\n",
    "ax.plot(alphas, mean)\n",
    "ax.fill_between(alphas, np.asarray(mean) - np.asarray(std),\n",
    "                np.asarray(mean) + np.asarray(std), alpha=0.15)\n",
    "ax.set_xscale(\"log\")\n",
    "ax.set_ylabel(\"concordance index\")\n",
    "ax.set_xlabel(\"alpha\")\n",
    "ax.axvline(cv_search.best_params_[\"alphas\"][0], c=\"C1\")\n",
    "ax.axhline(0.5, color=\"grey\", linestyle=\"--\")\n",
    "ax.grid(True)"
   ]
  },
  {
   "cell_type": "code",
   "execution_count": null,
   "metadata": {},
   "outputs": [],
   "source": [
    "def build_1D_gridsearch(pipeline, cv, alphas):\n",
    "    # argument alphas of CoxnetSurvivalAnalysis must be an array at each grid point\n",
    "    wrapped_alphas = [[alpha] for alpha in alphas]\n",
    "    cv_search_dist = {'alphas': wrapped_alphas}\n",
    "    cv_search_1D = GridSearchCV(\n",
    "        pipeline,\n",
    "        cv_search_dist,\n",
    "        cv=cv,\n",
    "        error_score=0.5,  # replaces fit errors with random models\n",
    "        n_jobs=-1,\n",
    "        verbose=4,\n",
    "    )\n",
    "    return cv_search_1D"
   ]
  },
  {
   "cell_type": "code",
   "execution_count": null,
   "metadata": {},
   "outputs": [],
   "source": [
    "# Grid search hyperparameters\n",
    "n_splits = 3\n",
    "log10_best_alpha = np.log10(cv_search.best_params_[\"alphas\"])\n",
    "# log10_best_alpha = np.log10(0.00035938136638046257)\n",
    "alphas = 10 ** np.linspace(log10_best_alpha - 3, log10_best_alpha + 3, 50)\n",
    "alphas"
   ]
  },
  {
   "cell_type": "code",
   "execution_count": null,
   "metadata": {},
   "outputs": [],
   "source": [
    "# Make the K-fold split deterministic for now\n",
    "cv = KFold(n_splits=n_splits, shuffle=True, random_state=2984)\n",
    "\n",
    "# Build the grid search metaestimator\n",
    "best_l1_ratio = cv_search.best_params_[\"l1_ratio\"]\n",
    "# best_l1_ratio = 0.78\n",
    "coxnet = CoxnetSurvivalAnalysis(\n",
    "    l1_ratio=best_l1_ratio, verbose=True, fit_baseline_model=False)\n",
    "cv_search = build_1D_gridsearch(coxnet, cv, alphas)"
   ]
  },
  {
   "cell_type": "code",
   "execution_count": null,
   "metadata": {},
   "outputs": [],
   "source": [
    "cv_search.fit(X_transformed, y_train.to_records(index=False))"
   ]
  },
  {
   "cell_type": "code",
   "execution_count": null,
   "metadata": {},
   "outputs": [],
   "source": []
  },
  {
   "cell_type": "code",
   "execution_count": null,
   "metadata": {},
   "outputs": [],
   "source": []
  },
  {
   "cell_type": "code",
   "execution_count": null,
   "metadata": {},
   "outputs": [],
   "source": [
    "best_model = cv_search.best_estimator_\n",
    "best_coeffs = pd.DataFrame(best_model.coef_, index=feature_names, columns=['coefficient'])\n",
    "\n",
    "non_zero = np.sum(best_coeffs.iloc[:, 0] != 0)\n",
    "print(f\"Number of non-zero coefficients: {non_zero}\")\n",
    "\n",
    "non_zero_coefs = best_coeffs.query(\"coefficient != 0\")\n",
    "coef_order = non_zero_coefs.abs().sort_values(\"coefficient\").index\n",
    "\n",
    "_, ax = plt.subplots(figsize=(6, 20))\n",
    "non_zero_coefs.loc[coef_order].plot.barh(ax=ax, legend=False)\n",
    "ax.set_xlabel(\"coefficient\")\n",
    "ax.grid(True)"
   ]
  },
  {
   "cell_type": "code",
   "execution_count": null,
   "metadata": {},
   "outputs": [],
   "source": [
    "coxnet_pred = CoxnetSurvivalAnalysis(verbose=True, fit_baseline_model=True)\n",
    "coxnet_pred.set_params(**cv_search.best_params_)\n",
    "coxnet_pred.fit(X_transformed, y_train.to_records(index=False))"
   ]
  },
  {
   "cell_type": "code",
   "execution_count": null,
   "metadata": {},
   "outputs": [],
   "source": [
    "X_train.loc[:, 'Sex']"
   ]
  },
  {
   "cell_type": "code",
   "execution_count": null,
   "metadata": {},
   "outputs": [],
   "source": []
  },
  {
   "cell_type": "code",
   "execution_count": null,
   "metadata": {},
   "outputs": [],
   "source": [
    "impute_ohe = make_pipeline(\n",
    "    SimpleImputer(strategy='constant', add_indicator=True).set_output(\n",
    "        transform=\"pandas\"),\n",
    "    DataFrameTransformer(),\n",
    "    OneHotEncoder(),\n",
    ")"
   ]
  },
  {
   "cell_type": "code",
   "execution_count": null,
   "metadata": {},
   "outputs": [],
   "source": [
    "# Why is the scaled and one-hot version so inhomogeneous compared to the original categorical?\n",
    "idx_male = np.where(feature_names == \"pipeline__Sex=Male\")[0].item()\n",
    "for Xt, count in np.unique(X_transformed[:, idx_male], return_counts=True):\n",
    "    print(f'Counts pipeline__Sex=Male = {Xt}: {count}')\n",
    "print()\n",
    "print(X_train['Sex'].value_counts())"
   ]
  },
  {
   "cell_type": "code",
   "execution_count": null,
   "metadata": {},
   "outputs": [],
   "source": [
    "surv_fns = coxnet_pred.predict_survival_function(X_transformed)\n",
    "idx_male = np.where(feature_names == \"pipeline__Sex=Male\")[0].item()\n",
    "\n",
    "coeffs_to_categories = {\n",
    "    0: \"Female\",\n",
    "    15: \"Male\",\n",
    "}\n",
    "\n",
    "time_points = np.quantile(y_train[\"Survival months\"], np.linspace(0, 0.6, 100))\n",
    "legend_handles = []\n",
    "legend_labels = []\n",
    "_, ax = plt.subplots(figsize=(9, 6))\n",
    "for i, (fn, male_val) in enumerate(zip(surv_fns, X_transformed[:, idx_male])):\n",
    "    if i > 50:\n",
    "        break\n",
    "    category = coeffs_to_categories[round(male_val)]\n",
    "    if category == \"Male\":\n",
    "        label = 0\n",
    "    else:\n",
    "        label = 1\n",
    "    (line,) = ax.step(time_points, fn(time_points),\n",
    "                      where=\"post\", color=f\"C{label}\", alpha=0.5)\n",
    "# TODO: add legend\n",
    "ax.set_xlabel(\"Time\")\n",
    "ax.set_ylabel(\"Survival probability\")\n",
    "ax.grid(True)"
   ]
  },
  {
   "cell_type": "code",
   "execution_count": null,
   "metadata": {},
   "outputs": [],
   "source": []
  }
 ],
 "metadata": {
  "kernelspec": {
   "display_name": "erdos_sp_2024",
   "language": "python",
   "name": "python3"
  },
  "language_info": {
   "codemirror_mode": {
    "name": "ipython",
    "version": 3
   },
   "file_extension": ".py",
   "mimetype": "text/x-python",
   "name": "python",
   "nbconvert_exporter": "python",
   "pygments_lexer": "ipython3",
   "version": "3.11.7"
  }
 },
 "nbformat": 4,
 "nbformat_minor": 2
}
