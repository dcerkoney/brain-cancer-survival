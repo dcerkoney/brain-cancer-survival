{
 "cells": [
  {
   "cell_type": "markdown",
   "metadata": {},
   "source": [
    "# Survival Analysis with scikit-survival\n",
    "\n",
    "This notebook is based closely on the scikit-survival [user guide](https://scikit-survival.readthedocs.io/en/stable/user_guide/index.html) and [introductory tutorial](https://scikit-survival.readthedocs.io/en/stable/user_guide/00-introduction.html)."
   ]
  },
  {
   "cell_type": "markdown",
   "metadata": {},
   "source": [
    "## Survival Data\n",
    "\n",
    "![image](assets/censoring.png)\n",
    "\n",
    "Survival analysis is time-to-event analysis with (typically) a single event of interest—death. It is a flavor of regression (we want to predict the probability of survival as a function of time, which is continuous). The data is also trivially time-dependent due to the presense of *censoring* in the dataset: some patients may be withdrawn from the study, lost to follow-up, or not experience an event (death) during the period of study at all. If the $i$-th patient is *uncensored*, then the event is actually observed, and the survival time (e.g., in months) recorded in the life table data denotes actual survival time $T_i$. If a patient is (right) *censored*, then this instead denotes the *censoring time* $U_i$, and in this case all we know about this patient's actual survival time is that $T_i > U_i$. Since censoring and death are mutually exclusive, one typically encodes this using an *event indicator* defined as follows:\n",
    "$$\n",
    "\\delta_i = \\begin{cases}\n",
    "0, & T_i = U_i, \\quad \\text{(dead)} \\\\\n",
    "1, & T_i > U_i, \\quad \\text{(censored)}\n",
    "\\end{cases}\n",
    "$$\n",
    "such that the *observed survival time* for the $i$-th patient in right-censored survival data is\n",
    "$$\n",
    "O_i = \\delta_i T_i + (1 - \\delta_i) U_i.\n",
    "$$\n",
    "\n",
    "## Cox proportional hazards model\n",
    "\n",
    "This complication prevents us from performing ordinary multivariable regression with, say, MLE. One way out is the [proportional hazards assumption](https://en.wikipedia.org/wiki/Proportional_hazards_model#Introduction), which asserts that all covariates $X_i$ in the problem are related to the underlying baseline hazard function $\\lambda_0(t)$ multiplicitavely. This gives us the Cox proportional hazards model, in which the hazard function is assumed to take the form\n",
    "$$\n",
    "\\lambda(t|X_i) = \\lambda_0(t) \\exp(X_i \\cdot \\beta),\n",
    "$$\n",
    "which looks much like an ordinary multivariable exponential regression model, except for the introduction of the time-dependent nuisance parameter $\\lambda_0(t)$. Using, e.g., Breslow's estimate of the baseline hazard function, one can show that the problem of determining the coefficients $\\beta$ amounts to the maximization of a *partial likelihood*\n",
    "$$\n",
    "\\text{PL}(\\beta) = \\prod_{i} \\left\\lparen \\frac{\\exp(X_i \\cdot \\beta)}{\\sum_{j: t_j \\ge t_i} \\exp(X_j \\cdot \\beta)} \\right\\rparen^{\\delta_i},\n",
    "$$\n",
    "which is independent of the baseline hazard function $\\lambda_0(t)$. The negative log partial likelihood that an event is observed at time $t_i$ for any patient is then given by\n",
    "$$\n",
    "\\text{NLPL}(\\beta) = -\\sum_{i} \\delta_i \\left\\lparen X_i \\cdot \\beta - \\log \\sum_{j: t_j \\ge t_i} \\exp(X_j \\cdot \\beta) \\right\\rparen,\n",
    "$$\n",
    "which can be minimized to obtain the MPLE estimates $\\hat{\\beta}$ for the optimal model parameters. Note that the form of $\\text{nll}(\\beta)$ may be complicated in the presence of tied event times. Breslow's method uses the above procedure even when tied times exist, whereas Efron's method (which is generally regarded as more accurate) uses a more complicated expression for $\\text{nll}(\\beta)$.\n",
    "\n",
    "## Hazard Ratios (HRs)\n",
    "\n",
    "$\\vdots$"
   ]
  },
  {
   "cell_type": "markdown",
   "metadata": {},
   "source": [
    "## Example analysis using data from the Veterans' Administration Lung Cancer Trial"
   ]
  },
  {
   "cell_type": "code",
   "execution_count": 2,
   "metadata": {},
   "outputs": [
    {
     "name": "stdout",
     "output_type": "stream",
     "text": [
      "Help on function load_veterans_lung_cancer in module sksurv.datasets.base:\n",
      "\n",
      "load_veterans_lung_cancer()\n",
      "    Load and return data from the Veterans' Administration\n",
      "    Lung Cancer Trial\n",
      "    \n",
      "    The dataset has 137 samples and 6 features.\n",
      "    The endpoint is death, which occurred for 128 patients (93.4%).\n",
      "    \n",
      "    See [1]_ for further description.\n",
      "    \n",
      "    Returns\n",
      "    -------\n",
      "    x : pandas.DataFrame\n",
      "        The measurements for each patient.\n",
      "    \n",
      "    y : structured array with 2 fields\n",
      "        *Status*: boolean indicating whether the endpoint has been reached\n",
      "        or the event time is right censored.\n",
      "    \n",
      "        *Survival_in_days*: total length of follow-up\n",
      "    \n",
      "    References\n",
      "    ----------\n",
      "    .. [1] Kalbfleisch, J.D., Prentice, R.L.:\n",
      "        \"The Statistical Analysis of Failure Time Data.\" John Wiley & Sons, Inc. (2002)\n",
      "\n"
     ]
    },
    {
     "data": {
      "text/plain": [
       "array([( True,  72.), ( True, 411.), ( True, 228.), ( True, 126.),\n",
       "       ( True, 118.), ( True,  10.), ( True,  82.), ( True, 110.),\n",
       "       ( True, 314.), (False, 100.), ( True,  42.), ( True,   8.),\n",
       "       ( True, 144.), (False,  25.), ( True,  11.), ( True,  30.),\n",
       "       ( True, 384.), ( True,   4.), ( True,  54.), ( True,  13.),\n",
       "       (False, 123.), (False,  97.), ( True, 153.), ( True,  59.),\n",
       "       ( True, 117.), ( True,  16.), ( True, 151.), ( True,  22.),\n",
       "       ( True,  56.), ( True,  21.), ( True,  18.), ( True, 139.),\n",
       "       ( True,  20.), ( True,  31.), ( True,  52.), ( True, 287.),\n",
       "       ( True,  18.), ( True,  51.), ( True, 122.), ( True,  27.),\n",
       "       ( True,  54.), ( True,   7.), ( True,  63.), ( True, 392.),\n",
       "       ( True,  10.), ( True,   8.), ( True,  92.), ( True,  35.),\n",
       "       ( True, 117.), ( True, 132.), ( True,  12.), ( True, 162.),\n",
       "       ( True,   3.), ( True,  95.), ( True, 177.), ( True, 162.),\n",
       "       ( True, 216.), ( True, 553.), ( True, 278.), ( True,  12.),\n",
       "       ( True, 260.), ( True, 200.), ( True, 156.), (False, 182.),\n",
       "       ( True, 143.), ( True, 105.), ( True, 103.), ( True, 250.),\n",
       "       ( True, 100.), ( True, 999.), ( True, 112.), (False,  87.),\n",
       "       (False, 231.), ( True, 242.), ( True, 991.), ( True, 111.),\n",
       "       ( True,   1.), ( True, 587.), ( True, 389.), ( True,  33.),\n",
       "       ( True,  25.), ( True, 357.), ( True, 467.), ( True, 201.),\n",
       "       ( True,   1.), ( True,  30.), ( True,  44.), ( True, 283.),\n",
       "       ( True,  15.), ( True,  25.), (False, 103.), ( True,  21.),\n",
       "       ( True,  13.), ( True,  87.), ( True,   2.), ( True,  20.),\n",
       "       ( True,   7.), ( True,  24.), ( True,  99.), ( True,   8.),\n",
       "       ( True,  99.), ( True,  61.), ( True,  25.), ( True,  95.),\n",
       "       ( True,  80.), ( True,  51.), ( True,  29.), ( True,  24.),\n",
       "       ( True,  18.), (False,  83.), ( True,  31.), ( True,  51.),\n",
       "       ( True,  90.), ( True,  52.), ( True,  73.), ( True,   8.),\n",
       "       ( True,  36.), ( True,  48.), ( True,   7.), ( True, 140.),\n",
       "       ( True, 186.), ( True,  84.), ( True,  19.), ( True,  45.),\n",
       "       ( True,  80.), ( True,  52.), ( True, 164.), ( True,  19.),\n",
       "       ( True,  53.), ( True,  15.), ( True,  43.), ( True, 340.),\n",
       "       ( True, 133.), ( True, 111.), ( True, 231.), ( True, 378.),\n",
       "       ( True,  49.)],\n",
       "      dtype=[('Status', '?'), ('Survival_in_days', '<f8')])"
      ]
     },
     "execution_count": 2,
     "metadata": {},
     "output_type": "execute_result"
    }
   ],
   "source": [
    "from sksurv.datasets import load_veterans_lung_cancer\n",
    "help(load_veterans_lung_cancer)\n",
    "\n",
    "# Load the data and display the life table\n",
    "data_x, data_y = load_veterans_lung_cancer()\n",
    "data_y"
   ]
  },
  {
   "cell_type": "code",
   "execution_count": 3,
   "metadata": {},
   "outputs": [
    {
     "data": {
      "text/html": [
       "<div>\n",
       "<style scoped>\n",
       "    .dataframe tbody tr th:only-of-type {\n",
       "        vertical-align: middle;\n",
       "    }\n",
       "\n",
       "    .dataframe tbody tr th {\n",
       "        vertical-align: top;\n",
       "    }\n",
       "\n",
       "    .dataframe thead th {\n",
       "        text-align: right;\n",
       "    }\n",
       "</style>\n",
       "<table border=\"1\" class=\"dataframe\">\n",
       "  <thead>\n",
       "    <tr style=\"text-align: right;\">\n",
       "      <th></th>\n",
       "      <th>Status</th>\n",
       "      <th>Survival_in_days</th>\n",
       "    </tr>\n",
       "  </thead>\n",
       "  <tbody>\n",
       "    <tr>\n",
       "      <th>1</th>\n",
       "      <td>True</td>\n",
       "      <td>8.0</td>\n",
       "    </tr>\n",
       "    <tr>\n",
       "      <th>2</th>\n",
       "      <td>True</td>\n",
       "      <td>10.0</td>\n",
       "    </tr>\n",
       "    <tr>\n",
       "      <th>3</th>\n",
       "      <td>True</td>\n",
       "      <td>20.0</td>\n",
       "    </tr>\n",
       "    <tr>\n",
       "      <th>4</th>\n",
       "      <td>False</td>\n",
       "      <td>25.0</td>\n",
       "    </tr>\n",
       "    <tr>\n",
       "      <th>5</th>\n",
       "      <td>True</td>\n",
       "      <td>59.0</td>\n",
       "    </tr>\n",
       "  </tbody>\n",
       "</table>\n",
       "</div>"
      ],
      "text/plain": [
       "   Status  Survival_in_days\n",
       "1    True               8.0\n",
       "2    True              10.0\n",
       "3    True              20.0\n",
       "4   False              25.0\n",
       "5    True              59.0"
      ]
     },
     "execution_count": 3,
     "metadata": {},
     "output_type": "execute_result"
    }
   ],
   "source": [
    "import pandas as pd\n",
    "\n",
    "pd.DataFrame.from_records(data_y[[11, 5, 32, 13, 23]], index=range(1, 6))"
   ]
  },
  {
   "cell_type": "markdown",
   "metadata": {},
   "source": [
    "## [Kaplan-Meier estimator](https://en.wikipedia.org/wiki/Kaplan%E2%80%93Meier_estimator) for the survival function\n",
    "\n",
    "The Kaplan-Meier estimator for the survival function $S(t)$ (probability of surviving a duration longer than time $t$) is\n",
    "$$\n",
    "\\hat{S}(t) = \\prod_{i: t_i < t} \\left\\lparen 1 - \\frac{d_i}{n_i} \\right\\rparen,\n",
    "$$\n",
    "where $t_i$ is a time where at least one event happened, $d_i$ is the total number of events that happened at time $t_i$, and $n_i$ is the number of individuals known to have survived (not yet died or been censored) up to time $t_i$.\n",
    "\n",
    "Note that while $\\hat{S}(t)$ is piecewise-constant, the true survival function $S(t)$ is continuous. We can produce the KM estimator for a given life table using scikit-survival in the following manner:"
   ]
  },
  {
   "cell_type": "code",
   "execution_count": 4,
   "metadata": {},
   "outputs": [
    {
     "data": {
      "text/plain": [
       "Text(0.5, 0, 'time $t$')"
      ]
     },
     "execution_count": 4,
     "metadata": {},
     "output_type": "execute_result"
    },
    {
     "data": {
      "image/png": "[encoded data removed]",
      "text/plain": [
       "<Figure size 640x480 with 1 Axes>"
      ]
     },
     "metadata": {},
     "output_type": "display_data"
    }
   ],
   "source": [
    "%matplotlib inline\n",
    "import matplotlib.pyplot as plt\n",
    "from sksurv.nonparametric import kaplan_meier_estimator\n",
    "\n",
    "time, survival_prob, conf_int = kaplan_meier_estimator(\n",
    "    data_y[\"Status\"], data_y[\"Survival_in_days\"], conf_type=\"log-log\"\n",
    ")\n",
    "plt.step(time, survival_prob, where=\"post\")\n",
    "plt.fill_between(time, conf_int[0], conf_int[1], alpha=0.25, step=\"post\")\n",
    "plt.ylim(0, 1)\n",
    "plt.ylabel(r\"est. probability of survival $\\hat{S}(t)$\")\n",
    "plt.xlabel(\"time $t$\")"
   ]
  },
  {
   "cell_type": "markdown",
   "metadata": {},
   "source": [
    "## Inference\n",
    "\n",
    "The proportional hazards assumption provides a tractable means of assessing the importance of covariates/confounders in multivariable survival data. Let's look at a few inference tools standard to survival analysis."
   ]
  },
  {
   "cell_type": "markdown",
   "metadata": {},
   "source": [
    "### Log-rank tests and stratification\n",
    "\n",
    "To compare survival functions in a rigorous way, we can use a *log-rank test*, which compares the total hazard rate with each group-specific hazard rate. The null (alternative) hypothesis for this test is that the groups have identical (different) hazard rates.\n",
    "\n",
    "Let's look at how this works by exploring survival adjusted for a couple different covariates. First, consider treatment type:"
   ]
  },
  {
   "cell_type": "code",
   "execution_count": 5,
   "metadata": {},
   "outputs": [
    {
     "data": {
      "text/plain": [
       "Treatment\n",
       "standard    69\n",
       "test        68\n",
       "Name: count, dtype: int64"
      ]
     },
     "execution_count": 5,
     "metadata": {},
     "output_type": "execute_result"
    }
   ],
   "source": [
    "data_x[\"Treatment\"].value_counts()"
   ]
  },
  {
   "cell_type": "markdown",
   "metadata": {},
   "source": [
    "We can try to eyeball the difference in survival functions, but this is not very conclusive, and quite subjective in general:"
   ]
  },
  {
   "cell_type": "code",
   "execution_count": 6,
   "metadata": {},
   "outputs": [
    {
     "data": {
      "text/plain": [
       "<matplotlib.legend.Legend at 0x7f54137302d0>"
      ]
     },
     "execution_count": 6,
     "metadata": {},
     "output_type": "execute_result"
    },
    {
     "data": {
      "image/png": "[encoded data removed]",
      "text/plain": [
       "<Figure size 640x480 with 1 Axes>"
      ]
     },
     "metadata": {},
     "output_type": "display_data"
    }
   ],
   "source": [
    "for treatment_type in (\"standard\", \"test\"):\n",
    "    mask_treat = data_x[\"Treatment\"] == treatment_type\n",
    "    time_treatment, survival_prob_treatment, conf_int = kaplan_meier_estimator(\n",
    "        data_y[\"Status\"][mask_treat],\n",
    "        data_y[\"Survival_in_days\"][mask_treat],\n",
    "        conf_type=\"log-log\",\n",
    "    )\n",
    "\n",
    "    plt.step(time_treatment, survival_prob_treatment,\n",
    "             where=\"post\", label=f\"Treatment = {treatment_type}\")\n",
    "    plt.fill_between(\n",
    "        time_treatment, conf_int[0], conf_int[1], alpha=0.25, step=\"post\")\n",
    "\n",
    "plt.ylim(0, 1)\n",
    "plt.ylabel(r\"est. probability of survival $\\hat{S}(t)$\")\n",
    "plt.xlabel(\"time $t$\")\n",
    "plt.legend(loc=\"best\")"
   ]
  },
  {
   "cell_type": "markdown",
   "metadata": {},
   "source": [
    "To quantify how different these survival functions are, we use a log-rank test:"
   ]
  },
  {
   "cell_type": "code",
   "execution_count": 7,
   "metadata": {},
   "outputs": [
    {
     "name": "stdout",
     "output_type": "stream",
     "text": [
      "chi-squared:\n",
      "0.008227343202350305\n",
      "\n",
      "p-value:\n",
      "0.9277272333400758\n",
      "\n",
      "statistics:\n",
      "       counts  observed   expected  statistic\n",
      "group                                        \n",
      "False      69        64  64.500197  -0.500197\n",
      "True       68        64  63.499803   0.500197\n",
      "\n",
      "covariance matrix:\n",
      "[[ 30.4103884 -30.4103884]\n",
      " [-30.4103884  30.4103884]]\n"
     ]
    }
   ],
   "source": [
    "from sksurv.compare import compare_survival\n",
    "chi_squared, p_value, statistics, covariance_matrix = compare_survival(\n",
    "    data_y,\n",
    "    data_x[\"Treatment\"] == \"test\",\n",
    "    True,\n",
    ")\n",
    "print(f\"chi-squared:\\n{chi_squared}\")\n",
    "print(f\"\\np-value:\\n{p_value}\")\n",
    "print(f\"\\nstatistics:\\n{statistics}\")\n",
    "print(f\"\\ncovariance matrix:\\n{covariance_matrix}\")"
   ]
  },
  {
   "cell_type": "markdown",
   "metadata": {
    "tags": [
     "parameters"
    ]
   },
   "source": [
    "Here, the log-rank test here confirms our intuition that stratifying by treatment type is not significant (p > 0.05).\n",
    "\n",
    "Let's repeat this analysis for cancer cell type:"
   ]
  },
  {
   "cell_type": "code",
   "execution_count": 8,
   "metadata": {},
   "outputs": [
    {
     "data": {
      "text/plain": [
       "Celltype\n",
       "smallcell    48\n",
       "squamous     35\n",
       "adeno        27\n",
       "large        27\n",
       "Name: count, dtype: int64"
      ]
     },
     "execution_count": 8,
     "metadata": {},
     "output_type": "execute_result"
    }
   ],
   "source": [
    "data_x[\"Celltype\"].value_counts()"
   ]
  },
  {
   "cell_type": "code",
   "execution_count": 9,
   "metadata": {},
   "outputs": [
    {
     "data": {
      "text/plain": [
       "<matplotlib.legend.Legend at 0x7f5409fd4cd0>"
      ]
     },
     "execution_count": 9,
     "metadata": {},
     "output_type": "execute_result"
    },
    {
     "data": {
      "image/png": "[encoded data removed]",
      "text/plain": [
       "<Figure size 640x480 with 1 Axes>"
      ]
     },
     "metadata": {},
     "output_type": "display_data"
    }
   ],
   "source": [
    "for value in data_x[\"Celltype\"].unique():\n",
    "    mask = data_x[\"Celltype\"] == value\n",
    "    time_cell, survival_prob_cell, conf_int = kaplan_meier_estimator(\n",
    "        data_y[\"Status\"][mask], data_y[\"Survival_in_days\"][mask], conf_type=\"log-log\"\n",
    "    )\n",
    "    plt.step(time_cell, survival_prob_cell, where=\"post\",\n",
    "             label=f\"{value} (n = {mask.sum()})\")\n",
    "    plt.fill_between(time_cell, conf_int[0],\n",
    "                     conf_int[1], alpha=0.25, step=\"post\")\n",
    "\n",
    "plt.ylim(0, 1)\n",
    "plt.ylabel(r\"est. probability of survival $\\hat{S}(t)$\")\n",
    "plt.xlabel(\"time $t$\")\n",
    "plt.legend(loc=\"best\")"
   ]
  },
  {
   "cell_type": "markdown",
   "metadata": {},
   "source": [
    "There seems to be a significant difference between survival of patients with squamous/large cells as compared to small/adeno cells, which we can again quantify using a log-rank test:"
   ]
  },
  {
   "cell_type": "code",
   "execution_count": 10,
   "metadata": {},
   "outputs": [
    {
     "name": "stdout",
     "output_type": "stream",
     "text": [
      "chi-squared:\n",
      "24.524185922668472\n",
      "\n",
      "p-value:\n",
      "7.338289632999644e-07\n",
      "\n",
      "statistics:\n",
      "       counts  observed   expected  statistic\n",
      "group                                        \n",
      "False      75        71  45.795844  25.204156\n",
      "True       62        57  82.204156 -25.204156\n",
      "\n",
      "covariance matrix:\n",
      "[[ 25.9029794 -25.9029794]\n",
      " [-25.9029794  25.9029794]]\n"
     ]
    }
   ],
   "source": [
    "chi_squared, p_value, statistics, covariance_matrix = compare_survival(\n",
    "    data_y,\n",
    "    list(map(lambda x: x == \"squamous\" or x == \"large\", data_x[\"Celltype\"])),\n",
    "    True,\n",
    ")\n",
    "print(f\"chi-squared:\\n{chi_squared}\")\n",
    "print(f\"\\np-value:\\n{p_value}\")\n",
    "print(f\"\\nstatistics:\\n{statistics}\")\n",
    "print(f\"\\ncovariance matrix:\\n{covariance_matrix}\")"
   ]
  },
  {
   "cell_type": "markdown",
   "metadata": {},
   "source": [
    "Indeed, in this case, there is a statistically significant (>95% CI) difference between the survival of these two groups."
   ]
  },
  {
   "cell_type": "markdown",
   "metadata": {},
   "source": [
    "### Multivariate models\n",
    "\n",
    "Now, let's consider the simplest non-parametric multivariate model: Cox's proportional hazards model. First, the categorical variables in the dataset need to be one-hot encoded:"
   ]
  },
  {
   "cell_type": "code",
   "execution_count": 11,
   "metadata": {},
   "outputs": [
    {
     "data": {
      "text/html": [
       "<div>\n",
       "<style scoped>\n",
       "    .dataframe tbody tr th:only-of-type {\n",
       "        vertical-align: middle;\n",
       "    }\n",
       "\n",
       "    .dataframe tbody tr th {\n",
       "        vertical-align: top;\n",
       "    }\n",
       "\n",
       "    .dataframe thead th {\n",
       "        text-align: right;\n",
       "    }\n",
       "</style>\n",
       "<table border=\"1\" class=\"dataframe\">\n",
       "  <thead>\n",
       "    <tr style=\"text-align: right;\">\n",
       "      <th></th>\n",
       "      <th>Age_in_years</th>\n",
       "      <th>Celltype=large</th>\n",
       "      <th>Celltype=smallcell</th>\n",
       "      <th>Celltype=squamous</th>\n",
       "      <th>Karnofsky_score</th>\n",
       "      <th>Months_from_Diagnosis</th>\n",
       "      <th>Prior_therapy=yes</th>\n",
       "      <th>Treatment=test</th>\n",
       "    </tr>\n",
       "  </thead>\n",
       "  <tbody>\n",
       "    <tr>\n",
       "      <th>0</th>\n",
       "      <td>69.0</td>\n",
       "      <td>0.0</td>\n",
       "      <td>0.0</td>\n",
       "      <td>1.0</td>\n",
       "      <td>60.0</td>\n",
       "      <td>7.0</td>\n",
       "      <td>0.0</td>\n",
       "      <td>0.0</td>\n",
       "    </tr>\n",
       "    <tr>\n",
       "      <th>1</th>\n",
       "      <td>64.0</td>\n",
       "      <td>0.0</td>\n",
       "      <td>0.0</td>\n",
       "      <td>1.0</td>\n",
       "      <td>70.0</td>\n",
       "      <td>5.0</td>\n",
       "      <td>1.0</td>\n",
       "      <td>0.0</td>\n",
       "    </tr>\n",
       "    <tr>\n",
       "      <th>2</th>\n",
       "      <td>38.0</td>\n",
       "      <td>0.0</td>\n",
       "      <td>0.0</td>\n",
       "      <td>1.0</td>\n",
       "      <td>60.0</td>\n",
       "      <td>3.0</td>\n",
       "      <td>0.0</td>\n",
       "      <td>0.0</td>\n",
       "    </tr>\n",
       "    <tr>\n",
       "      <th>3</th>\n",
       "      <td>63.0</td>\n",
       "      <td>0.0</td>\n",
       "      <td>0.0</td>\n",
       "      <td>1.0</td>\n",
       "      <td>60.0</td>\n",
       "      <td>9.0</td>\n",
       "      <td>1.0</td>\n",
       "      <td>0.0</td>\n",
       "    </tr>\n",
       "    <tr>\n",
       "      <th>4</th>\n",
       "      <td>65.0</td>\n",
       "      <td>0.0</td>\n",
       "      <td>0.0</td>\n",
       "      <td>1.0</td>\n",
       "      <td>70.0</td>\n",
       "      <td>11.0</td>\n",
       "      <td>1.0</td>\n",
       "      <td>0.0</td>\n",
       "    </tr>\n",
       "  </tbody>\n",
       "</table>\n",
       "</div>"
      ],
      "text/plain": [
       "   Age_in_years  Celltype=large  Celltype=smallcell  Celltype=squamous  \\\n",
       "0          69.0             0.0                 0.0                1.0   \n",
       "1          64.0             0.0                 0.0                1.0   \n",
       "2          38.0             0.0                 0.0                1.0   \n",
       "3          63.0             0.0                 0.0                1.0   \n",
       "4          65.0             0.0                 0.0                1.0   \n",
       "\n",
       "   Karnofsky_score  Months_from_Diagnosis  Prior_therapy=yes  Treatment=test  \n",
       "0             60.0                    7.0                0.0             0.0  \n",
       "1             70.0                    5.0                1.0             0.0  \n",
       "2             60.0                    3.0                0.0             0.0  \n",
       "3             60.0                    9.0                1.0             0.0  \n",
       "4             70.0                   11.0                1.0             0.0  "
      ]
     },
     "execution_count": 11,
     "metadata": {},
     "output_type": "execute_result"
    }
   ],
   "source": [
    "from sksurv.preprocessing import OneHotEncoder\n",
    "\n",
    "data_x_numeric = OneHotEncoder().fit_transform(data_x)\n",
    "data_x_numeric.head()"
   ]
  },
  {
   "cell_type": "markdown",
   "metadata": {},
   "source": [
    "The API for fitting a survival model in scikit-survival mirrors that of scikit-learn:"
   ]
  },
  {
   "cell_type": "code",
   "execution_count": 12,
   "metadata": {},
   "outputs": [
    {
     "data": {
      "text/plain": [
       "CoxPHSurvivalAnalysis()"
      ]
     },
     "execution_count": 12,
     "metadata": {},
     "output_type": "execute_result"
    }
   ],
   "source": [
    "from sklearn import set_config\n",
    "from sksurv.linear_model import CoxPHSurvivalAnalysis\n",
    "\n",
    "set_config(display=\"text\")  # displays text representation of estimators\n",
    "\n",
    "estimator = CoxPHSurvivalAnalysis()\n",
    "estimator.fit(data_x_numeric, data_y)"
   ]
  },
  {
   "cell_type": "markdown",
   "metadata": {},
   "source": [
    "After fitting the Cox model, we obtain a set of log hazard ratios for each covariate:"
   ]
  },
  {
   "cell_type": "code",
   "execution_count": 13,
   "metadata": {},
   "outputs": [
    {
     "data": {
      "text/plain": [
       "Age_in_years            -0.008549\n",
       "Celltype=large          -0.788672\n",
       "Celltype=smallcell      -0.331813\n",
       "Celltype=squamous       -1.188299\n",
       "Karnofsky_score         -0.032622\n",
       "Months_from_Diagnosis   -0.000092\n",
       "Prior_therapy=yes        0.072327\n",
       "Treatment=test           0.289936\n",
       "dtype: float64"
      ]
     },
     "execution_count": 13,
     "metadata": {},
     "output_type": "execute_result"
    }
   ],
   "source": [
    "pd.Series(estimator.coef_, index=data_x_numeric.columns)"
   ]
  },
  {
   "cell_type": "markdown",
   "metadata": {},
   "source": [
    "We can then predict patient-specific survival functions, as shown here for synthetic data:"
   ]
  },
  {
   "cell_type": "code",
   "execution_count": 14,
   "metadata": {},
   "outputs": [
    {
     "data": {
      "text/html": [
       "<div>\n",
       "<style scoped>\n",
       "    .dataframe tbody tr th:only-of-type {\n",
       "        vertical-align: middle;\n",
       "    }\n",
       "\n",
       "    .dataframe tbody tr th {\n",
       "        vertical-align: top;\n",
       "    }\n",
       "\n",
       "    .dataframe thead th {\n",
       "        text-align: right;\n",
       "    }\n",
       "</style>\n",
       "<table border=\"1\" class=\"dataframe\">\n",
       "  <thead>\n",
       "    <tr style=\"text-align: right;\">\n",
       "      <th></th>\n",
       "      <th>Age_in_years</th>\n",
       "      <th>Celltype=large</th>\n",
       "      <th>Celltype=smallcell</th>\n",
       "      <th>Celltype=squamous</th>\n",
       "      <th>Karnofsky_score</th>\n",
       "      <th>Months_from_Diagnosis</th>\n",
       "      <th>Prior_therapy=yes</th>\n",
       "      <th>Treatment=test</th>\n",
       "    </tr>\n",
       "  </thead>\n",
       "  <tbody>\n",
       "    <tr>\n",
       "      <th>1</th>\n",
       "      <td>65</td>\n",
       "      <td>0</td>\n",
       "      <td>0</td>\n",
       "      <td>1</td>\n",
       "      <td>60</td>\n",
       "      <td>1</td>\n",
       "      <td>0</td>\n",
       "      <td>1</td>\n",
       "    </tr>\n",
       "    <tr>\n",
       "      <th>2</th>\n",
       "      <td>65</td>\n",
       "      <td>0</td>\n",
       "      <td>0</td>\n",
       "      <td>1</td>\n",
       "      <td>60</td>\n",
       "      <td>1</td>\n",
       "      <td>0</td>\n",
       "      <td>0</td>\n",
       "    </tr>\n",
       "    <tr>\n",
       "      <th>3</th>\n",
       "      <td>65</td>\n",
       "      <td>0</td>\n",
       "      <td>1</td>\n",
       "      <td>0</td>\n",
       "      <td>60</td>\n",
       "      <td>1</td>\n",
       "      <td>0</td>\n",
       "      <td>0</td>\n",
       "    </tr>\n",
       "    <tr>\n",
       "      <th>4</th>\n",
       "      <td>65</td>\n",
       "      <td>0</td>\n",
       "      <td>1</td>\n",
       "      <td>0</td>\n",
       "      <td>60</td>\n",
       "      <td>1</td>\n",
       "      <td>0</td>\n",
       "      <td>1</td>\n",
       "    </tr>\n",
       "  </tbody>\n",
       "</table>\n",
       "</div>"
      ],
      "text/plain": [
       "   Age_in_years  Celltype=large  Celltype=smallcell  Celltype=squamous  \\\n",
       "1            65               0                   0                  1   \n",
       "2            65               0                   0                  1   \n",
       "3            65               0                   1                  0   \n",
       "4            65               0                   1                  0   \n",
       "\n",
       "   Karnofsky_score  Months_from_Diagnosis  Prior_therapy=yes  Treatment=test  \n",
       "1               60                      1                  0               1  \n",
       "2               60                      1                  0               0  \n",
       "3               60                      1                  0               0  \n",
       "4               60                      1                  0               1  "
      ]
     },
     "execution_count": 14,
     "metadata": {},
     "output_type": "execute_result"
    }
   ],
   "source": [
    "x_new = pd.DataFrame.from_dict(\n",
    "    {\n",
    "        1: [65, 0, 0, 1, 60, 1, 0, 1],\n",
    "        2: [65, 0, 0, 1, 60, 1, 0, 0],\n",
    "        3: [65, 0, 1, 0, 60, 1, 0, 0],\n",
    "        4: [65, 0, 1, 0, 60, 1, 0, 1],\n",
    "    },\n",
    "    columns=data_x_numeric.columns,\n",
    "    orient=\"index\",\n",
    ")\n",
    "x_new"
   ]
  },
  {
   "cell_type": "code",
   "execution_count": 15,
   "metadata": {},
   "outputs": [
    {
     "data": {
      "text/plain": [
       "<matplotlib.legend.Legend at 0x7f5409b00f10>"
      ]
     },
     "execution_count": 15,
     "metadata": {},
     "output_type": "execute_result"
    },
    {
     "data": {
      "image/png": "[encoded data removed]",
      "text/plain": [
       "<Figure size 640x480 with 1 Axes>"
      ]
     },
     "metadata": {},
     "output_type": "display_data"
    }
   ],
   "source": [
    "import numpy as np\n",
    "\n",
    "pred_surv = estimator.predict_survival_function(x_new)\n",
    "time_points = np.arange(1, 1000)\n",
    "for i, surv_func in enumerate(pred_surv):\n",
    "    plt.step(time_points, surv_func(time_points),\n",
    "             where=\"post\", label=f\"Sample {i + 1}\")\n",
    "plt.ylabel(r\"est. probability of survival $\\hat{S}(t)$\")\n",
    "plt.xlabel(\"time $t$\")\n",
    "plt.legend(loc=\"best\")"
   ]
  },
  {
   "cell_type": "markdown",
   "metadata": {},
   "source": [
    "### [Evaluation of survival models](https://scikit-survival.readthedocs.io/en/stable/user_guide/evaluating-survival-models.html)\n",
    "\n",
    "There are a few standard means by which we can assess the performance of our survival models. Because censoring is present in both the train and test data, typical metrics like RMS error or correlation matrices aren't applicable to survival analysis. The simplest gold standard is a generalization of the ROC curve called Harrell's concordance index, or c-index. One can interpret this score in an identical way to the typical area under the ROC curve metric of binary classification.\n",
    "\n",
    "Let's assess the performance of the Cox model we fit in the previous section:"
   ]
  },
  {
   "cell_type": "code",
   "execution_count": 16,
   "metadata": {},
   "outputs": [
    {
     "data": {
      "text/plain": [
       "0.7362562471603816"
      ]
     },
     "execution_count": 16,
     "metadata": {},
     "output_type": "execute_result"
    }
   ],
   "source": [
    "from sksurv.metrics import concordance_index_censored\n",
    "\n",
    "prediction = estimator.predict(data_x_numeric)\n",
    "result = concordance_index_censored(\n",
    "    data_y[\"Status\"], data_y[\"Survival_in_days\"], prediction)\n",
    "result[0]"
   ]
  },
  {
   "cell_type": "markdown",
   "metadata": {},
   "source": [
    "Equivalently, we can simply call the score method of the estimator:"
   ]
  },
  {
   "cell_type": "code",
   "execution_count": 17,
   "metadata": {},
   "outputs": [
    {
     "data": {
      "text/plain": [
       "0.7362562471603816"
      ]
     },
     "execution_count": 17,
     "metadata": {},
     "output_type": "execute_result"
    }
   ],
   "source": [
    "estimator.score(data_x_numeric, data_y)"
   ]
  },
  {
   "cell_type": "markdown",
   "metadata": {},
   "source": [
    "Another gold standard is the time-dependent Brier score, which is a generalization of mean squared error to right-censored survival data.\n",
    "\n",
    "$\\vdots$"
   ]
  },
  {
   "cell_type": "markdown",
   "metadata": {},
   "source": [
    "### Feature selection\n",
    "\n",
    "To assess the most predictively relevant features, we can do the following:"
   ]
  },
  {
   "cell_type": "code",
   "execution_count": 18,
   "metadata": {},
   "outputs": [
    {
     "data": {
      "text/plain": [
       "Karnofsky_score          0.709280\n",
       "Celltype=smallcell       0.572581\n",
       "Celltype=large           0.561620\n",
       "Celltype=squamous        0.550545\n",
       "Treatment=test           0.525386\n",
       "Age_in_years             0.515107\n",
       "Months_from_Diagnosis    0.509030\n",
       "Prior_therapy=yes        0.494434\n",
       "dtype: float64"
      ]
     },
     "execution_count": 18,
     "metadata": {},
     "output_type": "execute_result"
    }
   ],
   "source": [
    "import numpy as np\n",
    "\n",
    "\n",
    "def fit_and_score_features(X, y):\n",
    "    n_features = X.shape[1]\n",
    "    scores = np.empty(n_features)\n",
    "    m = CoxPHSurvivalAnalysis()\n",
    "    for j in range(n_features):\n",
    "        Xj = X[:, j : j + 1]\n",
    "        m.fit(Xj, y)\n",
    "        scores[j] = m.score(Xj, y)\n",
    "    return scores\n",
    "\n",
    "\n",
    "scores = fit_and_score_features(data_x_numeric.values, data_y)\n",
    "pd.Series(scores, index=data_x_numeric.columns).sort_values(ascending=False)"
   ]
  },
  {
   "cell_type": "markdown",
   "metadata": {},
   "source": [
    "Furthermore, we can perform a grid search to exclude irrelevant features from our models."
   ]
  },
  {
   "cell_type": "code",
   "execution_count": 19,
   "metadata": {},
   "outputs": [],
   "source": [
    "from sklearn.feature_selection import SelectKBest\n",
    "from sklearn.pipeline import Pipeline\n",
    "\n",
    "pipe = Pipeline(\n",
    "    [\n",
    "        (\"encode\", OneHotEncoder()),\n",
    "        (\"select\", SelectKBest(fit_and_score_features, k=3)),\n",
    "        (\"model\", CoxPHSurvivalAnalysis()),\n",
    "    ]\n",
    ")"
   ]
  },
  {
   "cell_type": "code",
   "execution_count": 20,
   "metadata": {},
   "outputs": [
    {
     "data": {
      "text/html": [
       "<div>\n",
       "<style scoped>\n",
       "    .dataframe tbody tr th:only-of-type {\n",
       "        vertical-align: middle;\n",
       "    }\n",
       "\n",
       "    .dataframe tbody tr th {\n",
       "        vertical-align: top;\n",
       "    }\n",
       "\n",
       "    .dataframe thead th {\n",
       "        text-align: right;\n",
       "    }\n",
       "</style>\n",
       "<table border=\"1\" class=\"dataframe\">\n",
       "  <thead>\n",
       "    <tr style=\"text-align: right;\">\n",
       "      <th></th>\n",
       "      <th>param_select__k</th>\n",
       "      <th>params</th>\n",
       "      <th>split0_test_score</th>\n",
       "      <th>split1_test_score</th>\n",
       "      <th>split2_test_score</th>\n",
       "      <th>mean_test_score</th>\n",
       "      <th>std_test_score</th>\n",
       "      <th>rank_test_score</th>\n",
       "      <th>split0_train_score</th>\n",
       "      <th>split1_train_score</th>\n",
       "      <th>split2_train_score</th>\n",
       "      <th>mean_train_score</th>\n",
       "      <th>std_train_score</th>\n",
       "    </tr>\n",
       "  </thead>\n",
       "  <tbody>\n",
       "    <tr>\n",
       "      <th>4</th>\n",
       "      <td>5</td>\n",
       "      <td>{'select__k': 5}</td>\n",
       "      <td>0.716093</td>\n",
       "      <td>0.719862</td>\n",
       "      <td>0.716685</td>\n",
       "      <td>0.717547</td>\n",
       "      <td>0.001655</td>\n",
       "      <td>1</td>\n",
       "      <td>0.732087</td>\n",
       "      <td>0.742432</td>\n",
       "      <td>0.731710</td>\n",
       "      <td>0.735410</td>\n",
       "      <td>0.004968</td>\n",
       "    </tr>\n",
       "    <tr>\n",
       "      <th>3</th>\n",
       "      <td>4</td>\n",
       "      <td>{'select__k': 4}</td>\n",
       "      <td>0.697368</td>\n",
       "      <td>0.722332</td>\n",
       "      <td>0.727324</td>\n",
       "      <td>0.715675</td>\n",
       "      <td>0.013104</td>\n",
       "      <td>2</td>\n",
       "      <td>0.732477</td>\n",
       "      <td>0.743090</td>\n",
       "      <td>0.727138</td>\n",
       "      <td>0.734235</td>\n",
       "      <td>0.006630</td>\n",
       "    </tr>\n",
       "    <tr>\n",
       "      <th>7</th>\n",
       "      <td>8</td>\n",
       "      <td>{'select__k': 8}</td>\n",
       "      <td>0.706478</td>\n",
       "      <td>0.723320</td>\n",
       "      <td>0.716685</td>\n",
       "      <td>0.715494</td>\n",
       "      <td>0.006927</td>\n",
       "      <td>3</td>\n",
       "      <td>0.739356</td>\n",
       "      <td>0.746249</td>\n",
       "      <td>0.737519</td>\n",
       "      <td>0.741041</td>\n",
       "      <td>0.003758</td>\n",
       "    </tr>\n",
       "    <tr>\n",
       "      <th>5</th>\n",
       "      <td>6</td>\n",
       "      <td>{'select__k': 6}</td>\n",
       "      <td>0.704453</td>\n",
       "      <td>0.719368</td>\n",
       "      <td>0.716685</td>\n",
       "      <td>0.713502</td>\n",
       "      <td>0.006491</td>\n",
       "      <td>4</td>\n",
       "      <td>0.735722</td>\n",
       "      <td>0.747565</td>\n",
       "      <td>0.731710</td>\n",
       "      <td>0.738332</td>\n",
       "      <td>0.006731</td>\n",
       "    </tr>\n",
       "    <tr>\n",
       "      <th>6</th>\n",
       "      <td>7</td>\n",
       "      <td>{'select__k': 7}</td>\n",
       "      <td>0.700405</td>\n",
       "      <td>0.719368</td>\n",
       "      <td>0.720045</td>\n",
       "      <td>0.713272</td>\n",
       "      <td>0.009103</td>\n",
       "      <td>5</td>\n",
       "      <td>0.741173</td>\n",
       "      <td>0.742564</td>\n",
       "      <td>0.728621</td>\n",
       "      <td>0.737453</td>\n",
       "      <td>0.006271</td>\n",
       "    </tr>\n",
       "    <tr>\n",
       "      <th>1</th>\n",
       "      <td>2</td>\n",
       "      <td>{'select__k': 2}</td>\n",
       "      <td>0.699393</td>\n",
       "      <td>0.717885</td>\n",
       "      <td>0.718365</td>\n",
       "      <td>0.711881</td>\n",
       "      <td>0.008833</td>\n",
       "      <td>6</td>\n",
       "      <td>0.732087</td>\n",
       "      <td>0.727428</td>\n",
       "      <td>0.714409</td>\n",
       "      <td>0.724642</td>\n",
       "      <td>0.007481</td>\n",
       "    </tr>\n",
       "    <tr>\n",
       "      <th>0</th>\n",
       "      <td>1</td>\n",
       "      <td>{'select__k': 1}</td>\n",
       "      <td>0.698887</td>\n",
       "      <td>0.707510</td>\n",
       "      <td>0.712206</td>\n",
       "      <td>0.706201</td>\n",
       "      <td>0.005516</td>\n",
       "      <td>7</td>\n",
       "      <td>0.710670</td>\n",
       "      <td>0.714793</td>\n",
       "      <td>0.700445</td>\n",
       "      <td>0.708636</td>\n",
       "      <td>0.006032</td>\n",
       "    </tr>\n",
       "    <tr>\n",
       "      <th>2</th>\n",
       "      <td>3</td>\n",
       "      <td>{'select__k': 3}</td>\n",
       "      <td>0.708502</td>\n",
       "      <td>0.714427</td>\n",
       "      <td>0.694849</td>\n",
       "      <td>0.705926</td>\n",
       "      <td>0.008198</td>\n",
       "      <td>8</td>\n",
       "      <td>0.734034</td>\n",
       "      <td>0.722559</td>\n",
       "      <td>0.716634</td>\n",
       "      <td>0.724409</td>\n",
       "      <td>0.007223</td>\n",
       "    </tr>\n",
       "  </tbody>\n",
       "</table>\n",
       "</div>"
      ],
      "text/plain": [
       "  param_select__k            params  split0_test_score  split1_test_score  \\\n",
       "4               5  {'select__k': 5}           0.716093           0.719862   \n",
       "3               4  {'select__k': 4}           0.697368           0.722332   \n",
       "7               8  {'select__k': 8}           0.706478           0.723320   \n",
       "5               6  {'select__k': 6}           0.704453           0.719368   \n",
       "6               7  {'select__k': 7}           0.700405           0.719368   \n",
       "1               2  {'select__k': 2}           0.699393           0.717885   \n",
       "0               1  {'select__k': 1}           0.698887           0.707510   \n",
       "2               3  {'select__k': 3}           0.708502           0.714427   \n",
       "\n",
       "   split2_test_score  mean_test_score  std_test_score  rank_test_score  \\\n",
       "4           0.716685         0.717547        0.001655                1   \n",
       "3           0.727324         0.715675        0.013104                2   \n",
       "7           0.716685         0.715494        0.006927                3   \n",
       "5           0.716685         0.713502        0.006491                4   \n",
       "6           0.720045         0.713272        0.009103                5   \n",
       "1           0.718365         0.711881        0.008833                6   \n",
       "0           0.712206         0.706201        0.005516                7   \n",
       "2           0.694849         0.705926        0.008198                8   \n",
       "\n",
       "   split0_train_score  split1_train_score  split2_train_score  \\\n",
       "4            0.732087            0.742432            0.731710   \n",
       "3            0.732477            0.743090            0.727138   \n",
       "7            0.739356            0.746249            0.737519   \n",
       "5            0.735722            0.747565            0.731710   \n",
       "6            0.741173            0.742564            0.728621   \n",
       "1            0.732087            0.727428            0.714409   \n",
       "0            0.710670            0.714793            0.700445   \n",
       "2            0.734034            0.722559            0.716634   \n",
       "\n",
       "   mean_train_score  std_train_score  \n",
       "4          0.735410         0.004968  \n",
       "3          0.734235         0.006630  \n",
       "7          0.741041         0.003758  \n",
       "5          0.738332         0.006731  \n",
       "6          0.737453         0.006271  \n",
       "1          0.724642         0.007481  \n",
       "0          0.708636         0.006032  \n",
       "2          0.724409         0.007223  "
      ]
     },
     "execution_count": 20,
     "metadata": {},
     "output_type": "execute_result"
    }
   ],
   "source": [
    "from sklearn.model_selection import GridSearchCV, KFold\n",
    "\n",
    "param_grid = {\"select__k\": np.arange(1, data_x_numeric.shape[1] + 1)}\n",
    "cv = KFold(n_splits=3, random_state=1, shuffle=True)\n",
    "gcv = GridSearchCV(pipe, param_grid, return_train_score=True, cv=cv)\n",
    "gcv.fit(data_x, data_y)\n",
    "\n",
    "results = pd.DataFrame(gcv.cv_results_).sort_values(\n",
    "    by=\"mean_test_score\", ascending=False)\n",
    "results.loc[:, ~results.columns.str.endswith(\"_time\")]"
   ]
  },
  {
   "cell_type": "markdown",
   "metadata": {},
   "source": [
    "From the grid search, we see that it would suffice to select only the top 5 most predictive features for this model (`Celltype=large`, `Celltype=smallcell`, `Celltype=squamous`, `Karnofsky_score`, and `Treatment=test`). Fitting the corresponding reduced model yields the following log hazard ratios:"
   ]
  },
  {
   "cell_type": "code",
   "execution_count": 23,
   "metadata": {},
   "outputs": [
    {
     "data": {
      "text/plain": [
       "Celltype=large       -0.754714\n",
       "Celltype=smallcell   -0.328059\n",
       "Celltype=squamous    -1.147673\n",
       "Karnofsky_score      -0.031112\n",
       "Treatment=test        0.257313\n",
       "dtype: float64"
      ]
     },
     "execution_count": 23,
     "metadata": {},
     "output_type": "execute_result"
    }
   ],
   "source": [
    "pipe.set_params(**gcv.best_params_)\n",
    "pipe.fit(data_x, data_y)\n",
    "\n",
    "encoder, transformer, final_estimator = [s[1] for s in pipe.steps]\n",
    "pd.Series(final_estimator.coef_, index=encoder.encoded_columns_[\n",
    "          transformer.get_support()])"
   ]
  },
  {
   "cell_type": "markdown",
   "metadata": {},
   "source": [
    "# [Hyperparameter tuning](https://scikit-survival.readthedocs.io/en/stable/user_guide/evaluating-survival-models.html#Using-Metrics-in-Hyper-parameter-Search)\n",
    "\n",
    "$\\vdots$"
   ]
  }
 ],
 "metadata": {
  "kernelspec": {
   "display_name": "erdos_sp_2024",
   "language": "python",
   "name": "python3"
  },
  "language_info": {
   "codemirror_mode": {
    "name": "ipython",
    "version": 3
   },
   "file_extension": ".py",
   "mimetype": "text/x-python",
   "name": "python",
   "nbconvert_exporter": "python",
   "pygments_lexer": "ipython3",
   "version": "3.11.7"
  }
 },
 "nbformat": 4,
 "nbformat_minor": 2
}
